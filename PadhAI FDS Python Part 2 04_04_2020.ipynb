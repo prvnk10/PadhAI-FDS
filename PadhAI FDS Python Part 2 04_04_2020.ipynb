{
  "nbformat": 4,
  "nbformat_minor": 0,
  "metadata": {
    "colab": {
      "name": "PadhAI FDS Python Part 2-04 04 2020.ipynb",
      "provenance": [],
      "collapsed_sections": [
        "YPodBtxNI2uS",
        "6Ut0mP550rvh",
        "-ziDAeaFJQRR",
        "cmJis39bLvNn",
        "V4bsIvOxSRJE",
        "sTDgFpQCa9xa",
        "bKvfycfkgQ3r",
        "0jOZYFBKl1A1",
        "-OuV1y82BUYV",
        "S2kJONpeHgVP"
      ],
      "include_colab_link": true
    },
    "kernelspec": {
      "name": "python3",
      "display_name": "Python 3"
    }
  },
  "cells": [
    {
      "cell_type": "markdown",
      "metadata": {
        "id": "view-in-github",
        "colab_type": "text"
      },
      "source": [
        "<a href=\"https://colab.research.google.com/github/prvnk10/PadhAI-FDS/blob/master/PadhAI%20FDS%20Python%20Part%202%2004_04_2020.ipynb\" target=\"_parent\"><img src=\"https://colab.research.google.com/assets/colab-badge.svg\" alt=\"Open In Colab\"/></a>"
      ]
    },
    {
      "cell_type": "code",
      "metadata": {
        "colab_type": "code",
        "outputId": "5f549e61-dba2-4609-dfdb-3bf7845fac62",
        "id": "cV15cQDxqYdQ",
        "colab": {
          "base_uri": "https://localhost:8080/",
          "height": 54
        }
      },
      "source": [
        "f = open(\"poem.txt\", \"r\")\n",
        "out_lines = f.readlines()\n",
        "print(out_lines)\n",
        "f.close()"
      ],
      "execution_count": 0,
      "outputs": [
        {
          "output_type": "stream",
          "text": [
            "['Unending Love by Rabindranath Tagore\\n', '\\n', 'I seem to have loved you in numberless forms, numberless times\\n', 'In life after life, in age after age, forever.\\n', 'My spellbound heart has made and remade the necklace of songs,\\n', 'That you take as a gift, wear round your neck in your many forms,\\n', 'In life after life, in age after age, forever.\\n', '\\n', 'Whenever I hear old chronicles of love, its age-old pain,\\n', 'Its ancient tale of being apart or together.\\n', 'As I stare on and on into the past, in the end you emerge,\\n', 'Clad in the light of a pole-star piercing the darkness of time:\\n', 'You become an image of what is remembered forever.\\n', '\\n', 'You and I have floated here on the stream that brings from the fount.\\n', 'At the heart of time, love of one for another.\\n', 'We have played along side millions of lovers, shared in the same\\n', 'Shy sweetness of meeting, the same distressful tears of farewell-\\n', 'Old love but in shapes that renew and renew forever.\\n', '\\n', 'Today it is heaped at your feet, it has found its end in you\\n', 'The love of all manâ€™s days both past and forever:\\n', 'Universal joy, universal sorrow, universal life.\\n', 'The memories of all loves merging with this one love of ours â€“\\n', 'And the songs of every poet past and forever.']\n"
          ],
          "name": "stdout"
        }
      ]
    },
    {
      "cell_type": "markdown",
      "metadata": {
        "id": "YPodBtxNI2uS",
        "colab_type": "text"
      },
      "source": [
        "# Documentation and Error Handling"
      ]
    },
    {
      "cell_type": "markdown",
      "metadata": {
        "id": "uBR5U473CLPr",
        "colab_type": "text"
      },
      "source": [
        "**Note to self about Fibonacci sequence**\n",
        "\n",
        "Start from *two* numbers $(f_0, f_1)$ and compute the $n$th value as \n",
        "$f_{n} \\leftarrow f_{n - 1} + f_{n - 2}$.\n",
        "\n",
        "It turns out that the ratio of consecutive numbers in the Fibonacci sequence approximates to the Golden ratio $\\phi$: \n",
        "$$ \\phi \\approx \\dfrac{f_n}{f_{n - 1}} $$"
      ]
    },
    {
      "cell_type": "code",
      "metadata": {
        "id": "fqC4mlzIBy36",
        "colab_type": "code",
        "colab": {}
      },
      "source": [
        "def fibonacci_sequence(n, a = 1, b = 1):\n",
        "    for i in range(n):\n",
        "        temp = a + b\n",
        "        a = b\n",
        "        b = temp\n",
        "    return temp"
      ],
      "execution_count": 0,
      "outputs": []
    },
    {
      "cell_type": "code",
      "metadata": {
        "id": "ILkL0PSiCRwE",
        "colab_type": "code",
        "colab": {}
      },
      "source": [
        "def input_single_float(prompt):\n",
        "    user_input = input(prompt)\n",
        "    output = float(user_input)\n",
        "    return output"
      ],
      "execution_count": 0,
      "outputs": []
    },
    {
      "cell_type": "markdown",
      "metadata": {
        "id": "wZWgIlx5QAGd",
        "colab_type": "text"
      },
      "source": [
        "Whatever we write in between **\"\"\"** and **\"\"\"**, it becomes docstring or the documentation for that function."
      ]
    },
    {
      "cell_type": "code",
      "metadata": {
        "id": "9ft-ChR7Cba_",
        "colab_type": "code",
        "colab": {}
      },
      "source": [
        "def fibonacci_sequence(n, a =10, b = 1):\n",
        "    \"\"\"\n",
        "    This computes the nth number in the Fibonacci sequence\n",
        "    starting with a and b as the first two values.\n",
        "    \"\"\"\n",
        "    for i in range(n):\n",
        "        temp = a + b\n",
        "        a = b\n",
        "        b = temp\n",
        "    return temp"
      ],
      "execution_count": 0,
      "outputs": []
    },
    {
      "cell_type": "code",
      "metadata": {
        "id": "5tDaKoqmOQaM",
        "colab_type": "code",
        "colab": {}
      },
      "source": [
        "# function name followed  by ? tells us aboout the function like signature, docstring\n",
        "\n",
        "fibonacci_sequence?"
      ],
      "execution_count": 0,
      "outputs": []
    },
    {
      "cell_type": "code",
      "metadata": {
        "id": "kIjkQ0_0OVRg",
        "colab_type": "code",
        "colab": {}
      },
      "source": [
        "def input_single_float(prompt):\n",
        "    \"\"\"\n",
        "    This prompts user to input, and then converts this to a single float\n",
        "    \"\"\"\n",
        "    user_input = input(prompt)\n",
        "    output = float(user_input)\n",
        "    return output"
      ],
      "execution_count": 0,
      "outputs": []
    },
    {
      "cell_type": "code",
      "metadata": {
        "id": "VqIcwOflPMdi",
        "colab_type": "code",
        "outputId": "c429bdf6-bf49-495f-e23d-314094619e13",
        "colab": {
          "base_uri": "https://localhost:8080/",
          "height": 34
        }
      },
      "source": [
        "val = input_single_float('Enter PI ')"
      ],
      "execution_count": 0,
      "outputs": [
        {
          "output_type": "stream",
          "text": [
            "Enter PI 3.14\n"
          ],
          "name": "stdout"
        }
      ]
    },
    {
      "cell_type": "code",
      "metadata": {
        "id": "xkCWnAl2S3Vn",
        "colab_type": "code",
        "outputId": "00f3c3a3-2fe3-4680-b198-3809b947db6d",
        "colab": {
          "base_uri": "https://localhost:8080/",
          "height": 34
        }
      },
      "source": [
        "val"
      ],
      "execution_count": 0,
      "outputs": [
        {
          "output_type": "execute_result",
          "data": {
            "text/plain": [
              "3.14"
            ]
          },
          "metadata": {
            "tags": []
          },
          "execution_count": 124
        }
      ]
    },
    {
      "cell_type": "code",
      "metadata": {
        "id": "S_TjgpfaS6L6",
        "colab_type": "code",
        "outputId": "d2bab116-fc6b-4fd5-feb2-12845fe7570c",
        "colab": {
          "base_uri": "https://localhost:8080/",
          "height": 299
        }
      },
      "source": [
        "# if someone does not enter a number, then it will give an error as per the function defination\n",
        "\n",
        "val = input_single_float('Enter PI ')"
      ],
      "execution_count": 0,
      "outputs": [
        {
          "output_type": "stream",
          "text": [
            "Enter PI PI\n"
          ],
          "name": "stdout"
        },
        {
          "output_type": "error",
          "ename": "ValueError",
          "evalue": "ignored",
          "traceback": [
            "\u001b[0;31m---------------------------------------------------------------------------\u001b[0m",
            "\u001b[0;31mValueError\u001b[0m                                Traceback (most recent call last)",
            "\u001b[0;32m<ipython-input-125-e33603005c76>\u001b[0m in \u001b[0;36m<module>\u001b[0;34m()\u001b[0m\n\u001b[1;32m      1\u001b[0m \u001b[0;34m\u001b[0m\u001b[0m\n\u001b[0;32m----> 2\u001b[0;31m \u001b[0mval\u001b[0m \u001b[0;34m=\u001b[0m \u001b[0minput_single_float\u001b[0m\u001b[0;34m(\u001b[0m\u001b[0;34m'Enter PI '\u001b[0m\u001b[0;34m)\u001b[0m\u001b[0;34m\u001b[0m\u001b[0;34m\u001b[0m\u001b[0m\n\u001b[0m",
            "\u001b[0;32m<ipython-input-122-efd3d0d3fb4d>\u001b[0m in \u001b[0;36minput_single_float\u001b[0;34m(prompt)\u001b[0m\n\u001b[1;32m      4\u001b[0m     \"\"\"\n\u001b[1;32m      5\u001b[0m     \u001b[0muser_input\u001b[0m \u001b[0;34m=\u001b[0m \u001b[0minput\u001b[0m\u001b[0;34m(\u001b[0m\u001b[0mprompt\u001b[0m\u001b[0;34m)\u001b[0m\u001b[0;34m\u001b[0m\u001b[0;34m\u001b[0m\u001b[0m\n\u001b[0;32m----> 6\u001b[0;31m     \u001b[0moutput\u001b[0m \u001b[0;34m=\u001b[0m \u001b[0mfloat\u001b[0m\u001b[0;34m(\u001b[0m\u001b[0muser_input\u001b[0m\u001b[0;34m)\u001b[0m\u001b[0;34m\u001b[0m\u001b[0;34m\u001b[0m\u001b[0m\n\u001b[0m\u001b[1;32m      7\u001b[0m     \u001b[0;32mreturn\u001b[0m \u001b[0moutput\u001b[0m\u001b[0;34m\u001b[0m\u001b[0;34m\u001b[0m\u001b[0m\n",
            "\u001b[0;31mValueError\u001b[0m: could not convert string to float: 'PI'"
          ]
        }
      ]
    },
    {
      "cell_type": "markdown",
      "metadata": {
        "id": "xnQabtDsTVu3",
        "colab_type": "text"
      },
      "source": [
        "This is an example of an error because of user's input and how that input is handled in the code. We want to write code in such a way that they are robustly able to handle such errors. Let's see how to do that in the below piece of code."
      ]
    },
    {
      "cell_type": "code",
      "metadata": {
        "id": "OdONGuQLPTIW",
        "colab_type": "code",
        "colab": {}
      },
      "source": [
        "def input_single_float(prompt):\n",
        "    \"\"\"\n",
        "    This prompts user to input, and then converts this to a single float\n",
        "    \"\"\"\n",
        "    user_input = input(prompt)\n",
        "\n",
        "    # try to convert the user_input to float, if it gets a ValueError then print some instruction to the user.\n",
        "    try: \n",
        "        output = float(user_input)\n",
        "    except ValueError:\n",
        "        print(\"Input value must be a float\")\n",
        "\n",
        "        # need to assign some value to output as we are returning it and in case try block did not run, then output must have some value\n",
        "        # None is a very special data type in Python with single possible value which is None itself which can then convey that somehow there is nothing of importance in this variable which is the case if we get an exception\n",
        "        output = None\n",
        "\n",
        "    return output"
      ],
      "execution_count": 0,
      "outputs": []
    },
    {
      "cell_type": "code",
      "metadata": {
        "id": "RMQUuVBVUYlf",
        "colab_type": "code",
        "outputId": "457a4cd6-6c4e-41e6-dc0d-b9fb608cbe8b",
        "colab": {
          "base_uri": "https://localhost:8080/",
          "height": 34
        }
      },
      "source": [
        "val = input_single_float('Enter PI ')"
      ],
      "execution_count": 0,
      "outputs": [
        {
          "output_type": "stream",
          "text": [
            "Enter PI 3.14\n"
          ],
          "name": "stdout"
        }
      ]
    },
    {
      "cell_type": "code",
      "metadata": {
        "id": "4v-dkSgrUgnl",
        "colab_type": "code",
        "outputId": "d01b9860-90b3-4db8-eca1-4b23a5201b7d",
        "colab": {
          "base_uri": "https://localhost:8080/",
          "height": 34
        }
      },
      "source": [
        "val"
      ],
      "execution_count": 0,
      "outputs": [
        {
          "output_type": "execute_result",
          "data": {
            "text/plain": [
              "3.14"
            ]
          },
          "metadata": {
            "tags": []
          },
          "execution_count": 128
        }
      ]
    },
    {
      "cell_type": "code",
      "metadata": {
        "id": "UrJOrnHWP41g",
        "colab_type": "code",
        "outputId": "7107e000-4b43-4ed6-fdff-f7c57a554042",
        "colab": {
          "base_uri": "https://localhost:8080/",
          "height": 51
        }
      },
      "source": [
        "val = input_single_float('Enter PI ')"
      ],
      "execution_count": 0,
      "outputs": [
        {
          "output_type": "stream",
          "text": [
            "Enter PI PI\n",
            "Input value must be a float\n"
          ],
          "name": "stdout"
        }
      ]
    },
    {
      "cell_type": "code",
      "metadata": {
        "id": "b5ERjMRdP66b",
        "colab_type": "code",
        "outputId": "6aa7ad28-92b4-438d-f02b-c232a879a367",
        "colab": {
          "base_uri": "https://localhost:8080/",
          "height": 34
        }
      },
      "source": [
        "print(val, type(val))"
      ],
      "execution_count": 0,
      "outputs": [
        {
          "output_type": "stream",
          "text": [
            "None <class 'NoneType'>\n"
          ],
          "name": "stdout"
        }
      ]
    },
    {
      "cell_type": "code",
      "metadata": {
        "id": "gvQoH-PdQPOt",
        "colab_type": "code",
        "colab": {}
      },
      "source": [
        "def input_single_float_inverse(prompt):\n",
        "    \"\"\"\n",
        "    This prompts user to input, and then converts this to a single float inverse\n",
        "    \"\"\"\n",
        "    user_input = input(prompt)\n",
        "    output = None\n",
        "\n",
        "    try: \n",
        "        output = 1/float(user_input)\n",
        "    except ValueError:\n",
        "        print(\"Input value must be a float\")\n",
        "    except ZeroDivisionError:\n",
        "        print(\"Input value must not be zero\")\n",
        "        \n",
        "    return output"
      ],
      "execution_count": 0,
      "outputs": []
    },
    {
      "cell_type": "code",
      "metadata": {
        "id": "UHcwRqSyQfxj",
        "colab_type": "code",
        "outputId": "2ce59e09-3217-4a77-ed9a-5a74aceac7ad",
        "colab": {
          "base_uri": "https://localhost:8080/",
          "height": 68
        }
      },
      "source": [
        "val = input_single_float_inverse('Enter number ')\n",
        "print(val)"
      ],
      "execution_count": 0,
      "outputs": [
        {
          "output_type": "stream",
          "text": [
            "Enter number 0\n",
            "Input value must not be zero\n",
            "None\n"
          ],
          "name": "stdout"
        }
      ]
    },
    {
      "cell_type": "markdown",
      "metadata": {
        "id": "6Ut0mP550rvh",
        "colab_type": "text"
      },
      "source": [
        "# Lists"
      ]
    },
    {
      "cell_type": "code",
      "metadata": {
        "id": "2sCpl7IG0MCS",
        "colab_type": "code",
        "colab": {}
      },
      "source": [
        "course_name = \"Foundations of Data Science\""
      ],
      "execution_count": 0,
      "outputs": []
    },
    {
      "cell_type": "code",
      "metadata": {
        "id": "t22wYIzW0vvY",
        "colab_type": "code",
        "colab": {}
      },
      "source": [
        "words = course_name.split()    # by default, separator is whitespace"
      ],
      "execution_count": 0,
      "outputs": []
    },
    {
      "cell_type": "code",
      "metadata": {
        "id": "ooADbjda0yjN",
        "colab_type": "code",
        "outputId": "3505cbd5-95b0-4bf2-90f4-d99cb3461326",
        "colab": {
          "base_uri": "https://localhost:8080/",
          "height": 34
        }
      },
      "source": [
        "print(words)"
      ],
      "execution_count": 0,
      "outputs": [
        {
          "output_type": "stream",
          "text": [
            "['Foundations', 'of', 'Data', 'Science']\n"
          ],
          "name": "stdout"
        }
      ]
    },
    {
      "cell_type": "code",
      "metadata": {
        "id": "_EpvJuLJ0znb",
        "colab_type": "code",
        "colab": {}
      },
      "source": [
        "str.split?"
      ],
      "execution_count": 0,
      "outputs": []
    },
    {
      "cell_type": "code",
      "metadata": {
        "id": "sumvsLzf08H6",
        "colab_type": "code",
        "outputId": "d3f11085-b95a-4054-a441-2ddf7d61fc0e",
        "colab": {
          "base_uri": "https://localhost:8080/",
          "height": 34
        }
      },
      "source": [
        "print(type(words))"
      ],
      "execution_count": 0,
      "outputs": [
        {
          "output_type": "stream",
          "text": [
            "<class 'list'>\n"
          ],
          "name": "stdout"
        }
      ]
    },
    {
      "cell_type": "code",
      "metadata": {
        "id": "T0DrQ1rH1Fyq",
        "colab_type": "code",
        "outputId": "654b50fd-ef4c-4f2e-e774-bf403ff88b54",
        "colab": {
          "base_uri": "https://localhost:8080/",
          "height": 34
        }
      },
      "source": [
        "print(words[2])"
      ],
      "execution_count": 0,
      "outputs": [
        {
          "output_type": "stream",
          "text": [
            "Data\n"
          ],
          "name": "stdout"
        }
      ]
    },
    {
      "cell_type": "code",
      "metadata": {
        "id": "tqYdpiaK1MEF",
        "colab_type": "code",
        "outputId": "a8e678ac-bdb0-4d4b-da29-0ba74e8d5415",
        "colab": {
          "base_uri": "https://localhost:8080/",
          "height": 34
        }
      },
      "source": [
        "print(type(words[-2]))"
      ],
      "execution_count": 0,
      "outputs": [
        {
          "output_type": "stream",
          "text": [
            "<class 'str'>\n"
          ],
          "name": "stdout"
        }
      ]
    },
    {
      "cell_type": "code",
      "metadata": {
        "id": "T4Tmfhax1Ywi",
        "colab_type": "code",
        "outputId": "43cb01ce-369a-479f-feb0-8006fbc55375",
        "colab": {
          "base_uri": "https://localhost:8080/",
          "height": 34
        }
      },
      "source": [
        "print(words[-2].lower())"
      ],
      "execution_count": 0,
      "outputs": [
        {
          "output_type": "stream",
          "text": [
            "data\n"
          ],
          "name": "stdout"
        }
      ]
    },
    {
      "cell_type": "code",
      "metadata": {
        "id": "x6hTL0KR1fMc",
        "colab_type": "code",
        "outputId": "51d18ed3-4869-4405-a516-42bf7f244d86",
        "colab": {
          "base_uri": "https://localhost:8080/",
          "height": 34
        }
      },
      "source": [
        "print(words[0:2])   # type of the output is a list"
      ],
      "execution_count": 0,
      "outputs": [
        {
          "output_type": "stream",
          "text": [
            "['Foundations', 'of']\n"
          ],
          "name": "stdout"
        }
      ]
    },
    {
      "cell_type": "code",
      "metadata": {
        "id": "ObnsuU-I1qN8",
        "colab_type": "code",
        "outputId": "ffcbeae5-1b57-4785-806a-05275e9d573c",
        "colab": {
          "base_uri": "https://localhost:8080/",
          "height": 34
        }
      },
      "source": [
        "print(words[:2])"
      ],
      "execution_count": 0,
      "outputs": [
        {
          "output_type": "stream",
          "text": [
            "['Foundations', 'of']\n"
          ],
          "name": "stdout"
        }
      ]
    },
    {
      "cell_type": "code",
      "metadata": {
        "id": "TwYJRQ2K10SO",
        "colab_type": "code",
        "outputId": "d4ecdce6-e893-485c-cc57-9385289d36c3",
        "colab": {
          "base_uri": "https://localhost:8080/",
          "height": 34
        }
      },
      "source": [
        "print(type(words[1:]))"
      ],
      "execution_count": 0,
      "outputs": [
        {
          "output_type": "stream",
          "text": [
            "<class 'list'>\n"
          ],
          "name": "stdout"
        }
      ]
    },
    {
      "cell_type": "code",
      "metadata": {
        "id": "wkKVVYK2130R",
        "colab_type": "code",
        "colab": {}
      },
      "source": [
        "new_words = [\"Machine\", \"Learning\"]"
      ],
      "execution_count": 0,
      "outputs": []
    },
    {
      "cell_type": "code",
      "metadata": {
        "id": "A6dHEz1v2BwZ",
        "colab_type": "code",
        "outputId": "6e05b70c-c295-4f3b-89d1-a42f507ff688",
        "colab": {
          "base_uri": "https://localhost:8080/",
          "height": 34
        }
      },
      "source": [
        "print(type(new_words))"
      ],
      "execution_count": 0,
      "outputs": [
        {
          "output_type": "stream",
          "text": [
            "<class 'list'>\n"
          ],
          "name": "stdout"
        }
      ]
    },
    {
      "cell_type": "code",
      "metadata": {
        "id": "U6W2YM7O2DDd",
        "colab_type": "code",
        "colab": {}
      },
      "source": [
        "print(new_words[0])"
      ],
      "execution_count": 0,
      "outputs": []
    },
    {
      "cell_type": "code",
      "metadata": {
        "id": "CLPct_dn2FjV",
        "colab_type": "code",
        "colab": {}
      },
      "source": [
        "fibonacci_list = [1, 1, 2, 3, 5, 8, 13, 21]"
      ],
      "execution_count": 0,
      "outputs": []
    },
    {
      "cell_type": "code",
      "metadata": {
        "id": "EINXgpEX2K2l",
        "colab_type": "code",
        "outputId": "015e6a4d-0a3a-4187-fb9a-6dbebca0f776",
        "colab": {
          "base_uri": "https://localhost:8080/",
          "height": 34
        }
      },
      "source": [
        "print(type(fibonacci_list[0]))"
      ],
      "execution_count": 0,
      "outputs": [
        {
          "output_type": "stream",
          "text": [
            "<class 'int'>\n"
          ],
          "name": "stdout"
        }
      ]
    },
    {
      "cell_type": "code",
      "metadata": {
        "id": "FureZr8r2MQR",
        "colab_type": "code",
        "colab": {}
      },
      "source": [
        "print(fibonacci_list[0] + 10)"
      ],
      "execution_count": 0,
      "outputs": []
    },
    {
      "cell_type": "code",
      "metadata": {
        "id": "wHCWmqiU2RYh",
        "colab_type": "code",
        "outputId": "104ad9d1-a38e-4937-e7a6-88acee50c8fd",
        "colab": {
          "base_uri": "https://localhost:8080/",
          "height": 153
        }
      },
      "source": [
        "for num in fibonacci_list:\n",
        "    print(num + 10)"
      ],
      "execution_count": 0,
      "outputs": [
        {
          "output_type": "stream",
          "text": [
            "11\n",
            "11\n",
            "12\n",
            "13\n",
            "15\n",
            "18\n",
            "23\n",
            "31\n"
          ],
          "name": "stdout"
        }
      ]
    },
    {
      "cell_type": "code",
      "metadata": {
        "id": "OmGFOHv52c-Q",
        "colab_type": "code",
        "outputId": "9ff53616-dc59-4f37-a760-bee44fb29b8b",
        "colab": {
          "base_uri": "https://localhost:8080/",
          "height": 34
        }
      },
      "source": [
        "length = len(fibonacci_list)\n",
        "print(length)"
      ],
      "execution_count": 0,
      "outputs": [
        {
          "output_type": "stream",
          "text": [
            "8\n"
          ],
          "name": "stdout"
        }
      ]
    },
    {
      "cell_type": "code",
      "metadata": {
        "id": "R7wnHSMH2sPE",
        "colab_type": "code",
        "outputId": "ce0585f8-ac8f-4b43-ad60-0c0e9ca25889",
        "colab": {
          "base_uri": "https://localhost:8080/",
          "height": 153
        }
      },
      "source": [
        "for i in range(length):\n",
        "    print(i, fibonacci_list[i])"
      ],
      "execution_count": 0,
      "outputs": [
        {
          "output_type": "stream",
          "text": [
            "0 1\n",
            "1 1\n",
            "2 2\n",
            "3 3\n",
            "4 5\n",
            "5 8\n",
            "6 13\n",
            "7 21\n"
          ],
          "name": "stdout"
        }
      ]
    },
    {
      "cell_type": "code",
      "metadata": {
        "id": "MjWqDjLF2xk_",
        "colab_type": "code",
        "colab": {}
      },
      "source": [
        "bmi_record = [\"Krishna\", 75, 1.73, False]"
      ],
      "execution_count": 0,
      "outputs": []
    },
    {
      "cell_type": "code",
      "metadata": {
        "id": "nNLZS8m43HjW",
        "colab_type": "code",
        "outputId": "64c27813-07e4-45fe-e7ac-a069ee46e2ac",
        "colab": {
          "base_uri": "https://localhost:8080/",
          "height": 34
        }
      },
      "source": [
        "print(type(bmi_record))"
      ],
      "execution_count": 0,
      "outputs": [
        {
          "output_type": "stream",
          "text": [
            "<class 'list'>\n"
          ],
          "name": "stdout"
        }
      ]
    },
    {
      "cell_type": "code",
      "metadata": {
        "id": "xgTlXkEf3JUL",
        "colab_type": "code",
        "outputId": "73eebd60-c236-4ec1-9376-3809cdae376e",
        "colab": {
          "base_uri": "https://localhost:8080/",
          "height": 85
        }
      },
      "source": [
        "for item in bmi_record:\n",
        "    print(item, type(item))"
      ],
      "execution_count": 0,
      "outputs": [
        {
          "output_type": "stream",
          "text": [
            "Krishna <class 'str'>\n",
            "75 <class 'int'>\n",
            "1.73 <class 'float'>\n",
            "False <class 'bool'>\n"
          ],
          "name": "stdout"
        }
      ]
    },
    {
      "cell_type": "code",
      "metadata": {
        "id": "5zQYms0i3OWy",
        "colab_type": "code",
        "colab": {}
      },
      "source": [
        "bmi_record[0] = \"Krishna A\""
      ],
      "execution_count": 0,
      "outputs": []
    },
    {
      "cell_type": "code",
      "metadata": {
        "id": "TUwm9fjg3Whh",
        "colab_type": "code",
        "colab": {}
      },
      "source": [
        "bmi_record.append(\"krishnaa@idontknow.com\")"
      ],
      "execution_count": 0,
      "outputs": []
    },
    {
      "cell_type": "code",
      "metadata": {
        "id": "8ZmQL12t3fiK",
        "colab_type": "code",
        "outputId": "226c14d3-4566-4303-af40-f7ff3b818d25",
        "colab": {
          "base_uri": "https://localhost:8080/",
          "height": 102
        }
      },
      "source": [
        "for item in bmi_record:\n",
        "    print(item, type(item))"
      ],
      "execution_count": 0,
      "outputs": [
        {
          "output_type": "stream",
          "text": [
            "Krishna A <class 'str'>\n",
            "75 <class 'int'>\n",
            "1.73 <class 'float'>\n",
            "False <class 'bool'>\n",
            "krishnaa@idontknow.com <class 'str'>\n"
          ],
          "name": "stdout"
        }
      ]
    },
    {
      "cell_type": "markdown",
      "metadata": {
        "id": "-ziDAeaFJQRR",
        "colab_type": "text"
      },
      "source": [
        "# Lists - continued"
      ]
    },
    {
      "cell_type": "code",
      "metadata": {
        "id": "EQkc3mMy3hD-",
        "colab_type": "code",
        "colab": {}
      },
      "source": [
        "bmi_dataset = [\n",
        "               [\"Krishna\", 75, 1.73, False],\n",
        "               [\"Bheem\", 120, 1.78, True]\n",
        "]"
      ],
      "execution_count": 0,
      "outputs": []
    },
    {
      "cell_type": "code",
      "metadata": {
        "id": "xEvdr535Jg3d",
        "colab_type": "code",
        "outputId": "bbc8428c-3d17-44e9-8241-5d03af822952",
        "colab": {
          "base_uri": "https://localhost:8080/",
          "height": 34
        }
      },
      "source": [
        "print(type(bmi_dataset[1]))"
      ],
      "execution_count": 0,
      "outputs": [
        {
          "output_type": "stream",
          "text": [
            "<class 'list'>\n"
          ],
          "name": "stdout"
        }
      ]
    },
    {
      "cell_type": "code",
      "metadata": {
        "id": "r3NEcEflJjuA",
        "colab_type": "code",
        "outputId": "e1804786-a8bc-4587-d0a3-75ca6e785568",
        "colab": {
          "base_uri": "https://localhost:8080/",
          "height": 34
        }
      },
      "source": [
        "print(bmi_dataset[0])"
      ],
      "execution_count": 0,
      "outputs": [
        {
          "output_type": "stream",
          "text": [
            "['Krishna', 75, 1.73, False]\n"
          ],
          "name": "stdout"
        }
      ]
    },
    {
      "cell_type": "code",
      "metadata": {
        "id": "GSkr_XjBJtrP",
        "colab_type": "code",
        "outputId": "9ad41be5-c79b-46a3-aa98-f5c9fdc79a3d",
        "colab": {
          "base_uri": "https://localhost:8080/",
          "height": 34
        }
      },
      "source": [
        "print(type(bmi_dataset[0][0]))"
      ],
      "execution_count": 0,
      "outputs": [
        {
          "output_type": "stream",
          "text": [
            "<class 'str'>\n"
          ],
          "name": "stdout"
        }
      ]
    },
    {
      "cell_type": "code",
      "metadata": {
        "id": "yREJjR6WJ2r3",
        "colab_type": "code",
        "outputId": "e6ca383c-7e57-4e1e-8906-e879d0842923",
        "colab": {
          "base_uri": "https://localhost:8080/",
          "height": 34
        }
      },
      "source": [
        "print(bmi_dataset[1][2])"
      ],
      "execution_count": 0,
      "outputs": [
        {
          "output_type": "stream",
          "text": [
            "1.78\n"
          ],
          "name": "stdout"
        }
      ]
    },
    {
      "cell_type": "code",
      "metadata": {
        "id": "4Vokqa0FJ89l",
        "colab_type": "code",
        "colab": {}
      },
      "source": [
        "bmi_dataset[1].append(\"bheem@foodtruck.com\")"
      ],
      "execution_count": 0,
      "outputs": []
    },
    {
      "cell_type": "code",
      "metadata": {
        "id": "Rzgndf4aKO8p",
        "colab_type": "code",
        "outputId": "3c230000-5089-4731-a981-1a81b334e614",
        "colab": {
          "base_uri": "https://localhost:8080/",
          "height": 34
        }
      },
      "source": [
        "print(bmi_dataset)"
      ],
      "execution_count": 0,
      "outputs": [
        {
          "output_type": "stream",
          "text": [
            "[['Krishna', 75, 1.73, False], ['Bheem', 120, 1.78, True, 'bheem@foodtruck.com']]\n"
          ],
          "name": "stdout"
        }
      ]
    },
    {
      "cell_type": "code",
      "metadata": {
        "id": "Lkz3Es5QKQf3",
        "colab_type": "code",
        "colab": {}
      },
      "source": [
        "bmi_dataset[1][1] = 125"
      ],
      "execution_count": 0,
      "outputs": []
    },
    {
      "cell_type": "code",
      "metadata": {
        "id": "aBBMxzV7KZ_1",
        "colab_type": "code",
        "colab": {}
      },
      "source": [
        "identity_3 = [\n",
        "              [1, 0, 0],\n",
        "              [0, 1, 0],\n",
        "              [0, 0, 1]\n",
        "]"
      ],
      "execution_count": 0,
      "outputs": []
    },
    {
      "cell_type": "code",
      "metadata": {
        "id": "7NTzmXOwKqp8",
        "colab_type": "code",
        "outputId": "d3089004-38ed-465d-d45b-fe5db430264f",
        "colab": {
          "base_uri": "https://localhost:8080/",
          "height": 34
        }
      },
      "source": [
        "print(identity_3[2][2])"
      ],
      "execution_count": 0,
      "outputs": [
        {
          "output_type": "stream",
          "text": [
            "1\n"
          ],
          "name": "stdout"
        }
      ]
    },
    {
      "cell_type": "code",
      "metadata": {
        "id": "eutbtw4XKsd0",
        "colab_type": "code",
        "colab": {}
      },
      "source": [
        "A = [1, 2]"
      ],
      "execution_count": 0,
      "outputs": []
    },
    {
      "cell_type": "code",
      "metadata": {
        "id": "prDRE12VK6Wt",
        "colab_type": "code",
        "colab": {}
      },
      "source": [
        "B = A"
      ],
      "execution_count": 0,
      "outputs": []
    },
    {
      "cell_type": "code",
      "metadata": {
        "id": "ARmetUuiK7hZ",
        "colab_type": "code",
        "outputId": "70832980-c10d-4fd9-8d76-950238ec7543",
        "colab": {
          "base_uri": "https://localhost:8080/",
          "height": 34
        }
      },
      "source": [
        "print(B)"
      ],
      "execution_count": 0,
      "outputs": [
        {
          "output_type": "stream",
          "text": [
            "[1, 2]\n"
          ],
          "name": "stdout"
        }
      ]
    },
    {
      "cell_type": "code",
      "metadata": {
        "id": "C8N0K8KlK9M8",
        "colab_type": "code",
        "colab": {}
      },
      "source": [
        "A[0] = A[0] + A[1]"
      ],
      "execution_count": 0,
      "outputs": []
    },
    {
      "cell_type": "code",
      "metadata": {
        "id": "kJt33znALCpE",
        "colab_type": "code",
        "outputId": "ae38681e-a203-4423-d0d5-ab0ce375ec87",
        "colab": {
          "base_uri": "https://localhost:8080/",
          "height": 34
        }
      },
      "source": [
        "print(A)"
      ],
      "execution_count": 0,
      "outputs": [
        {
          "output_type": "stream",
          "text": [
            "[3, 2]\n"
          ],
          "name": "stdout"
        }
      ]
    },
    {
      "cell_type": "code",
      "metadata": {
        "id": "l_O2qJtwLDZq",
        "colab_type": "code",
        "outputId": "9b9b89f2-8966-428a-b35a-7162a74d6811",
        "colab": {
          "base_uri": "https://localhost:8080/",
          "height": 34
        }
      },
      "source": [
        "print(B)"
      ],
      "execution_count": 0,
      "outputs": [
        {
          "output_type": "stream",
          "text": [
            "[3, 2]\n"
          ],
          "name": "stdout"
        }
      ]
    },
    {
      "cell_type": "markdown",
      "metadata": {
        "id": "vcEXtRnPdUIu",
        "colab_type": "text"
      },
      "source": [
        "A and B are different pointers to the same object. If one of the pointers changes the object, then the other one also reflects this change."
      ]
    },
    {
      "cell_type": "code",
      "metadata": {
        "id": "Ngunj3jtLEv0",
        "colab_type": "code",
        "colab": {}
      },
      "source": [
        "A = [1, 2]"
      ],
      "execution_count": 0,
      "outputs": []
    },
    {
      "cell_type": "code",
      "metadata": {
        "id": "mROzmMJgLXrn",
        "colab_type": "code",
        "colab": {}
      },
      "source": [
        "B = [item for item in A]   ## deep copy"
      ],
      "execution_count": 0,
      "outputs": []
    },
    {
      "cell_type": "code",
      "metadata": {
        "id": "6NlLnK1XLiyu",
        "colab_type": "code",
        "outputId": "993253eb-7b84-43cc-bd59-5905ea52affe",
        "colab": {
          "base_uri": "https://localhost:8080/",
          "height": 34
        }
      },
      "source": [
        "print(B)"
      ],
      "execution_count": 0,
      "outputs": [
        {
          "output_type": "stream",
          "text": [
            "[1, 2]\n"
          ],
          "name": "stdout"
        }
      ]
    },
    {
      "cell_type": "code",
      "metadata": {
        "id": "PbZtWubDLjgK",
        "colab_type": "code",
        "colab": {}
      },
      "source": [
        "A[0] = A[0] + A[1]"
      ],
      "execution_count": 0,
      "outputs": []
    },
    {
      "cell_type": "code",
      "metadata": {
        "id": "o_fIxWZ4Lk_w",
        "colab_type": "code",
        "outputId": "e83b5907-3ae1-488e-e905-518478329dae",
        "colab": {
          "base_uri": "https://localhost:8080/",
          "height": 34
        }
      },
      "source": [
        "print(A)"
      ],
      "execution_count": 0,
      "outputs": [
        {
          "output_type": "stream",
          "text": [
            "[3, 2]\n"
          ],
          "name": "stdout"
        }
      ]
    },
    {
      "cell_type": "code",
      "metadata": {
        "id": "QrKvnxdtLlls",
        "colab_type": "code",
        "outputId": "611967af-7c89-4831-e1d1-0faa21d9323a",
        "colab": {
          "base_uri": "https://localhost:8080/",
          "height": 34
        }
      },
      "source": [
        "print(B)"
      ],
      "execution_count": 0,
      "outputs": [
        {
          "output_type": "stream",
          "text": [
            "[1, 2]\n"
          ],
          "name": "stdout"
        }
      ]
    },
    {
      "cell_type": "markdown",
      "metadata": {
        "id": "cmJis39bLvNn",
        "colab_type": "text"
      },
      "source": [
        "# Exercise for Lists\n",
        "\n",
        "Given the following square matrix $A$\n",
        "$$A =  \\begin{pmatrix} 1 & 1 \\\\ 1 & 0  \\end{pmatrix}$$\n",
        "compute the matrix $A^n$ obtained by multiplying $A$ to itself $n$ times.\n",
        " \n",
        "Can you comment on the left-top value in $A^n$ (what does this remind you of?)"
      ]
    },
    {
      "cell_type": "code",
      "metadata": {
        "id": "yfKUGqMNLmcn",
        "colab_type": "code",
        "colab": {}
      },
      "source": [
        "def square_matrix_power(A, n):\n",
        "\n",
        "    \"\"\"\n",
        "     this function compute the n'th power of the input matrix A, here the assumption is that the matrix A is a 2 X 2 matrix\n",
        "    \"\"\"\n",
        "\n",
        "    output = A\n",
        "    temp = A\n",
        "\n",
        "\n",
        "    # we want to multiply A with itself (n-1) times to compute A raise to power n\n",
        "\n",
        "    for i in range(n - 1):\n",
        "        # output = A * output\n",
        "        # -> output = A * temp\n",
        "        #    temp = output\n",
        "        output[0][0] = A[0][0] * temp[0][0] + A[0][1] * temp[1][0]\n",
        "        output[0][1] = A[0][0] * temp[0][1] + A[0][1] * temp[1][1]\n",
        "        output[1][0] = A[1][0] * temp[0][0] + A[1][1] * temp[1][0]\n",
        "        output[1][1] = A[1][0] * temp[0][1] + A[1][1] * temp[1][1]\n",
        "\n",
        "        temp = output     ## here the assignment does not creates a deep copy(both variables still refer to same object in memory) and that's why the results are not as expected\n",
        "    \n",
        "    return output"
      ],
      "execution_count": 0,
      "outputs": []
    },
    {
      "cell_type": "code",
      "metadata": {
        "id": "1gCv_QnCNoEv",
        "colab_type": "code",
        "colab": {}
      },
      "source": [
        "A = [\n",
        "     [1, 1], \n",
        "     [1, 0]\n",
        "]"
      ],
      "execution_count": 0,
      "outputs": []
    },
    {
      "cell_type": "code",
      "metadata": {
        "id": "1WSp8kFJNrMG",
        "colab_type": "code",
        "outputId": "e4320e9d-d2ae-4015-def2-a9a7b4b053f9",
        "colab": {
          "base_uri": "https://localhost:8080/",
          "height": 34
        }
      },
      "source": [
        "print(square_matrix_power(A, 2))"
      ],
      "execution_count": 0,
      "outputs": [
        {
          "output_type": "stream",
          "text": [
            "[[2, 2], [2, 4]]\n"
          ],
          "name": "stdout"
        }
      ]
    },
    {
      "cell_type": "code",
      "metadata": {
        "id": "DF4JZ9NbOXai",
        "colab_type": "code",
        "colab": {}
      },
      "source": [
        "def square_matrix_power(A, n):\n",
        "\n",
        "    output = [item[:] for item in A]     # we are iterating through items/top level elements i.e rows of A and for each item, take all elements of that item(item itself is a list), make that a list and that list itself becomes\n",
        "                                         # the first element of this outer list(output), that's the way to do a deep copy of matrix\n",
        "    temp = [item[:] for item in A]\n",
        "    \n",
        "    \n",
        "    for i in range(n - 1):\n",
        "        # output = A * output\n",
        "        # -> output = A * temp\n",
        "        #    temp = output\n",
        "        \n",
        "        output[0][0] = A[0][0] * temp[0][0] + A[0][1] * temp[1][0]\n",
        "        output[0][1] = A[0][0] * temp[0][1] + A[0][1] * temp[1][1]\n",
        "        output[1][0] = A[1][0] * temp[0][0] + A[1][1] * temp[1][0]\n",
        "        output[1][1] = A[1][0] * temp[0][1] + A[1][1] * temp[1][1]\n",
        "\n",
        "        temp = [item[:] for item in output]\n",
        "\n",
        "    return output"
      ],
      "execution_count": 0,
      "outputs": []
    },
    {
      "cell_type": "code",
      "metadata": {
        "id": "AY5Tj-w0PMLQ",
        "colab_type": "code",
        "colab": {}
      },
      "source": [
        "A = [\n",
        "     [1, 1], \n",
        "     [1, 0]\n",
        "]"
      ],
      "execution_count": 0,
      "outputs": []
    },
    {
      "cell_type": "code",
      "metadata": {
        "id": "IUJhgUDbPGuR",
        "colab_type": "code",
        "outputId": "7328ccc8-1d71-4e5d-b194-1b14af7f6247",
        "colab": {
          "base_uri": "https://localhost:8080/",
          "height": 34
        }
      },
      "source": [
        "print(square_matrix_power(A, 2))"
      ],
      "execution_count": 0,
      "outputs": [
        {
          "output_type": "stream",
          "text": [
            "[[2, 1], [1, 1]]\n"
          ],
          "name": "stdout"
        }
      ]
    },
    {
      "cell_type": "code",
      "metadata": {
        "id": "2PLmw7oOPKDc",
        "colab_type": "code",
        "outputId": "2f572aa0-29a2-4af0-e8f1-8864a037fcf5",
        "colab": {
          "base_uri": "https://localhost:8080/",
          "height": 187
        }
      },
      "source": [
        "## print the top most value of the matrix A raised to different powers\n",
        "\n",
        "for n in range(10):\n",
        "    output = square_matrix_power(A, n)\n",
        "    print(n, output[0][0])"
      ],
      "execution_count": 0,
      "outputs": [
        {
          "output_type": "stream",
          "text": [
            "0 1\n",
            "1 1\n",
            "2 2\n",
            "3 3\n",
            "4 5\n",
            "5 8\n",
            "6 13\n",
            "7 21\n",
            "8 34\n",
            "9 55\n"
          ],
          "name": "stdout"
        }
      ]
    },
    {
      "cell_type": "markdown",
      "metadata": {
        "id": "iR-yajEYjIjb",
        "colab_type": "text"
      },
      "source": [
        "The top left most element of the matrix A raised to different powers form the fibonacci series"
      ]
    },
    {
      "cell_type": "markdown",
      "metadata": {
        "id": "V4bsIvOxSRJE",
        "colab_type": "text"
      },
      "source": [
        "# Tuples and Sets"
      ]
    },
    {
      "cell_type": "code",
      "metadata": {
        "id": "_DJblfyJPhY1",
        "colab_type": "code",
        "colab": {}
      },
      "source": [
        "bmi_categories = (\"Underweight\", \"Normal\", \"Overweight\", \"Very overweight\")"
      ],
      "execution_count": 0,
      "outputs": []
    },
    {
      "cell_type": "code",
      "metadata": {
        "id": "8CXBKymkSktX",
        "colab_type": "code",
        "outputId": "71e08a20-3ece-460a-a94c-65eb84f586ea",
        "colab": {
          "base_uri": "https://localhost:8080/",
          "height": 34
        }
      },
      "source": [
        "print(type(bmi_categories))"
      ],
      "execution_count": 0,
      "outputs": [
        {
          "output_type": "stream",
          "text": [
            "<class 'tuple'>\n"
          ],
          "name": "stdout"
        }
      ]
    },
    {
      "cell_type": "code",
      "metadata": {
        "id": "PSZ4cleeSnNq",
        "colab_type": "code",
        "outputId": "6c284489-34c5-4a6a-d1b0-8b967b126044",
        "colab": {
          "base_uri": "https://localhost:8080/",
          "height": 34
        }
      },
      "source": [
        "print(bmi_categories[-1])"
      ],
      "execution_count": 0,
      "outputs": [
        {
          "output_type": "stream",
          "text": [
            "Very overweight\n"
          ],
          "name": "stdout"
        }
      ]
    },
    {
      "cell_type": "code",
      "metadata": {
        "id": "Atj3VM1RSs_Z",
        "colab_type": "code",
        "outputId": "7758404f-1a9c-4ceb-b5ac-070faf448730",
        "colab": {
          "base_uri": "https://localhost:8080/",
          "height": 34
        }
      },
      "source": [
        "print(bmi_categories[0:2])"
      ],
      "execution_count": 0,
      "outputs": [
        {
          "output_type": "stream",
          "text": [
            "('Underweight', 'Normal')\n"
          ],
          "name": "stdout"
        }
      ]
    },
    {
      "cell_type": "code",
      "metadata": {
        "id": "KhqmARH5S3p4",
        "colab_type": "code",
        "outputId": "bef42311-e6bf-4088-9704-c0ffe983fc46",
        "colab": {
          "base_uri": "https://localhost:8080/",
          "height": 34
        }
      },
      "source": [
        "bmi_categories.index(\"Normal\")    # get the index of the value \"Normal\" as in the tuple"
      ],
      "execution_count": 0,
      "outputs": [
        {
          "output_type": "execute_result",
          "data": {
            "text/plain": [
              "1"
            ]
          },
          "metadata": {
            "tags": []
          },
          "execution_count": 194
        }
      ]
    },
    {
      "cell_type": "code",
      "metadata": {
        "id": "ThQzsWyRTEvp",
        "colab_type": "code",
        "outputId": "7761896f-1eeb-442f-d959-b41d4d37b1aa",
        "colab": {
          "base_uri": "https://localhost:8080/",
          "height": 163
        }
      },
      "source": [
        "bmi_categories.index(\"Very underweight\")    # if we check the index of some value which does not exist in the tuple, we get an error"
      ],
      "execution_count": 0,
      "outputs": [
        {
          "output_type": "error",
          "ename": "ValueError",
          "evalue": "ignored",
          "traceback": [
            "\u001b[0;31m---------------------------------------------------------------------------\u001b[0m",
            "\u001b[0;31mValueError\u001b[0m                                Traceback (most recent call last)",
            "\u001b[0;32m<ipython-input-195-c259cc5480d5>\u001b[0m in \u001b[0;36m<module>\u001b[0;34m()\u001b[0m\n\u001b[0;32m----> 1\u001b[0;31m \u001b[0mbmi_categories\u001b[0m\u001b[0;34m.\u001b[0m\u001b[0mindex\u001b[0m\u001b[0;34m(\u001b[0m\u001b[0;34m\"Very underweight\"\u001b[0m\u001b[0;34m)\u001b[0m    \u001b[0;31m# if we check the index of some value which does not exist in the tuple, we get an error\u001b[0m\u001b[0;34m\u001b[0m\u001b[0;34m\u001b[0m\u001b[0m\n\u001b[0m",
            "\u001b[0;31mValueError\u001b[0m: tuple.index(x): x not in tuple"
          ]
        }
      ]
    },
    {
      "cell_type": "code",
      "metadata": {
        "id": "VXt7mx4ATMgp",
        "colab_type": "code",
        "outputId": "0511dced-66b1-4498-e018-d3c1da8094ee",
        "colab": {
          "base_uri": "https://localhost:8080/",
          "height": 34
        }
      },
      "source": [
        "print(\"Underweight\" in bmi_categories)"
      ],
      "execution_count": 0,
      "outputs": [
        {
          "output_type": "stream",
          "text": [
            "True\n"
          ],
          "name": "stdout"
        }
      ]
    },
    {
      "cell_type": "code",
      "metadata": {
        "id": "ku1Ohc4RTVAe",
        "colab_type": "code",
        "outputId": "6ae100b4-c119-4c53-ac3d-0942485ed0ea",
        "colab": {
          "base_uri": "https://localhost:8080/",
          "height": 163
        }
      },
      "source": [
        "bmi_categories[3] = \"VERY overweight\"    # tuples are immutable"
      ],
      "execution_count": 0,
      "outputs": [
        {
          "output_type": "error",
          "ename": "TypeError",
          "evalue": "ignored",
          "traceback": [
            "\u001b[0;31m---------------------------------------------------------------------------\u001b[0m",
            "\u001b[0;31mTypeError\u001b[0m                                 Traceback (most recent call last)",
            "\u001b[0;32m<ipython-input-197-f428fa19b9f2>\u001b[0m in \u001b[0;36m<module>\u001b[0;34m()\u001b[0m\n\u001b[0;32m----> 1\u001b[0;31m \u001b[0mbmi_categories\u001b[0m\u001b[0;34m[\u001b[0m\u001b[0;36m3\u001b[0m\u001b[0;34m]\u001b[0m \u001b[0;34m=\u001b[0m \u001b[0;34m\"VERY overweight\"\u001b[0m    \u001b[0;31m# tuples are immutable\u001b[0m\u001b[0;34m\u001b[0m\u001b[0;34m\u001b[0m\u001b[0m\n\u001b[0m",
            "\u001b[0;31mTypeError\u001b[0m: 'tuple' object does not support item assignment"
          ]
        }
      ]
    },
    {
      "cell_type": "markdown",
      "metadata": {
        "id": "nrfPbvfiknIs",
        "colab_type": "text"
      },
      "source": [
        "There are various situations where we want to create an array of values which are fairly constant pieces of data which will typically not be changed. So, we would like to store them as tuples.\n",
        "\n",
        "<br>\n",
        "\n",
        "There are some other situations where we don't want people to accidentally change some values, they might be constant that are meant to be constant throughout the code, to prevent accidental editing of them, we store them as tuples.\n",
        "\n",
        "<br>\n",
        "\n",
        "If we have a situation where something is really constant, do tuples provide an advantage in being stored as tuples rather than list? Let's evaluate this by using **magic commands**. We can write some special lines begining with **%%**. We use **timeit** command with **%%**, **timeit** is a magic command which will instruct the interpreter to log time, whatever it takes to run that cell. \n",
        "\n",
        "<br>\n",
        "\n",
        "It can take a bunch of argument for example in the below code, we have **n1** and **r10**, the iteration count is with **n** that is do this **n** number of times, and **r** stands for repeat which tells to repeat this 10 times in the below case and give us the best number it gets"
      ]
    },
    {
      "cell_type": "code",
      "metadata": {
        "id": "EGiN0aGOTiTW",
        "colab_type": "code",
        "outputId": "5955d988-bb94-42d5-cb38-8428135b3040",
        "colab": {
          "base_uri": "https://localhost:8080/",
          "height": 34
        }
      },
      "source": [
        "%%timeit -n1 -r10\n",
        "\n",
        "for i in range(1000000):\n",
        "  \n",
        "    my_list = [\"Tuples\", \"are\", \"faster\", \"than\", \"lists\"]"
      ],
      "execution_count": 0,
      "outputs": [
        {
          "output_type": "stream",
          "text": [
            "1 loop, best of 10: 68.1 ms per loop\n"
          ],
          "name": "stdout"
        }
      ]
    },
    {
      "cell_type": "code",
      "metadata": {
        "id": "UvYyyEkAUc1M",
        "colab_type": "code",
        "colab": {}
      },
      "source": [
        "%%timeit?"
      ],
      "execution_count": 0,
      "outputs": []
    },
    {
      "cell_type": "code",
      "metadata": {
        "id": "i23Msh0bUiAM",
        "colab_type": "code",
        "outputId": "c0440c5d-1012-46cb-a62e-3811d248dcee",
        "colab": {
          "base_uri": "https://localhost:8080/",
          "height": 34
        }
      },
      "source": [
        "%%timeit -n1 -r10\n",
        "\n",
        "for i in range(1000000):\n",
        "    my_tuple = (\"Tuples\", \"are\", \"faster\", \"than\", \"lists\")"
      ],
      "execution_count": 0,
      "outputs": [
        {
          "output_type": "stream",
          "text": [
            "1 loop, best of 10: 24.4 ms per loop\n"
          ],
          "name": "stdout"
        }
      ]
    },
    {
      "cell_type": "markdown",
      "metadata": {
        "id": "H6rahkFwnqTs",
        "colab_type": "text"
      },
      "source": [
        "The reason tuples take very less time is that when a list is created, python anticipates potential changes to the values and python creates a data structure which enable operation like addition, deletion, modification of elements in future whereas when creating a tuple, it knows that the values can't be changed, nothing can be added or deleted and this leads to a far more efficient way of creating this data structure and later on accessing and doing operations on it. And this leads to the improvement in performance when using tuples compared to lists.\n",
        "\n",
        "\n",
        "<br>\n",
        "\n",
        "So, if we have something in the code which is not going to change or in other words is a constant, we can implement them as a tuple and get a performance benefit from it."
      ]
    },
    {
      "cell_type": "code",
      "metadata": {
        "id": "kv9wQVEWUtZ1",
        "colab_type": "code",
        "colab": {}
      },
      "source": [
        "batsmen = {\"Rohit\", \"Virat\", \"Ravindra\", \"Rahul\"}"
      ],
      "execution_count": 0,
      "outputs": []
    },
    {
      "cell_type": "code",
      "metadata": {
        "id": "Bca5ZURIVLOi",
        "colab_type": "code",
        "outputId": "e846bc6b-cfdb-4b1f-8f6e-fd69b89cd244",
        "colab": {
          "base_uri": "https://localhost:8080/",
          "height": 34
        }
      },
      "source": [
        "print(type(batsmen))"
      ],
      "execution_count": 0,
      "outputs": [
        {
          "output_type": "stream",
          "text": [
            "<class 'set'>\n"
          ],
          "name": "stdout"
        }
      ]
    },
    {
      "cell_type": "code",
      "metadata": {
        "id": "gbdMW5UGVNfX",
        "colab_type": "code",
        "outputId": "38af5b10-67bc-436e-f22f-6926a04a23ed",
        "colab": {
          "base_uri": "https://localhost:8080/",
          "height": 34
        }
      },
      "source": [
        "print(\"Rohit\" in batsmen)"
      ],
      "execution_count": 0,
      "outputs": [
        {
          "output_type": "stream",
          "text": [
            "True\n"
          ],
          "name": "stdout"
        }
      ]
    },
    {
      "cell_type": "code",
      "metadata": {
        "id": "gX-GPXBvVSV8",
        "colab_type": "code",
        "outputId": "e0c3e09e-00e0-4d22-9027-9bfa8899bb2c",
        "colab": {
          "base_uri": "https://localhost:8080/",
          "height": 163
        }
      },
      "source": [
        "batsmen.index(\"Rohit\")   # we can not use index with sets, elements are not stored in a fixed order, it does not have a unique index assigned to each data item"
      ],
      "execution_count": 0,
      "outputs": [
        {
          "output_type": "error",
          "ename": "AttributeError",
          "evalue": "ignored",
          "traceback": [
            "\u001b[0;31m---------------------------------------------------------------------------\u001b[0m",
            "\u001b[0;31mAttributeError\u001b[0m                            Traceback (most recent call last)",
            "\u001b[0;32m<ipython-input-204-b8fc1aaeca53>\u001b[0m in \u001b[0;36m<module>\u001b[0;34m()\u001b[0m\n\u001b[0;32m----> 1\u001b[0;31m \u001b[0mbatsmen\u001b[0m\u001b[0;34m.\u001b[0m\u001b[0mindex\u001b[0m\u001b[0;34m(\u001b[0m\u001b[0;34m\"Rohit\"\u001b[0m\u001b[0;34m)\u001b[0m   \u001b[0;31m# we can not use index with sets, elements are not stored in a fixed order, it does not have a unique index assigned to each data item\u001b[0m\u001b[0;34m\u001b[0m\u001b[0;34m\u001b[0m\u001b[0m\n\u001b[0m",
            "\u001b[0;31mAttributeError\u001b[0m: 'set' object has no attribute 'index'"
          ]
        }
      ]
    },
    {
      "cell_type": "code",
      "metadata": {
        "id": "iPRzKwxpVZe7",
        "colab_type": "code",
        "colab": {}
      },
      "source": [
        "bowlers = {\"Ishant\", \"Bumrah\", \"Ravindra\"}"
      ],
      "execution_count": 0,
      "outputs": []
    },
    {
      "cell_type": "code",
      "metadata": {
        "id": "kDGi71-JVjXg",
        "colab_type": "code",
        "outputId": "c2010c81-dd72-4656-e987-f95ac2a4805e",
        "colab": {
          "base_uri": "https://localhost:8080/",
          "height": 34
        }
      },
      "source": [
        "print(type(bowlers))"
      ],
      "execution_count": 0,
      "outputs": [
        {
          "output_type": "stream",
          "text": [
            "<class 'set'>\n"
          ],
          "name": "stdout"
        }
      ]
    },
    {
      "cell_type": "code",
      "metadata": {
        "id": "JFz_RE7LVknF",
        "colab_type": "code",
        "colab": {}
      },
      "source": [
        "all_rounders = batsmen.intersection(bowlers)"
      ],
      "execution_count": 0,
      "outputs": []
    },
    {
      "cell_type": "code",
      "metadata": {
        "id": "WsEVdemzVoQL",
        "colab_type": "code",
        "outputId": "682cb7f6-09f0-4b2e-cc4e-d749ab0ffc53",
        "colab": {
          "base_uri": "https://localhost:8080/",
          "height": 34
        }
      },
      "source": [
        "print(type(all_rounders))"
      ],
      "execution_count": 0,
      "outputs": [
        {
          "output_type": "stream",
          "text": [
            "<class 'set'>\n"
          ],
          "name": "stdout"
        }
      ]
    },
    {
      "cell_type": "code",
      "metadata": {
        "id": "kplrKHlVVpzW",
        "colab_type": "code",
        "outputId": "fb708daa-0fa9-4c5d-aca2-e65bec27f06c",
        "colab": {
          "base_uri": "https://localhost:8080/",
          "height": 34
        }
      },
      "source": [
        "print(all_rounders)"
      ],
      "execution_count": 0,
      "outputs": [
        {
          "output_type": "stream",
          "text": [
            "{'Ravindra'}\n"
          ],
          "name": "stdout"
        }
      ]
    },
    {
      "cell_type": "code",
      "metadata": {
        "id": "ADkWKfC1Vrip",
        "colab_type": "code",
        "colab": {}
      },
      "source": [
        "players = batsmen.union(bowlers)"
      ],
      "execution_count": 0,
      "outputs": []
    },
    {
      "cell_type": "code",
      "metadata": {
        "id": "MSwKk3G2V2UJ",
        "colab_type": "code",
        "outputId": "3248bebe-1c60-4058-b9a2-c65c7a0b1aee",
        "colab": {
          "base_uri": "https://localhost:8080/",
          "height": 34
        }
      },
      "source": [
        "print(type(players))"
      ],
      "execution_count": 0,
      "outputs": [
        {
          "output_type": "stream",
          "text": [
            "<class 'set'>\n"
          ],
          "name": "stdout"
        }
      ]
    },
    {
      "cell_type": "code",
      "metadata": {
        "id": "YxaOIZETV3Y5",
        "colab_type": "code",
        "outputId": "b31fdc03-734e-428d-e812-c41e57b2a156",
        "colab": {
          "base_uri": "https://localhost:8080/",
          "height": 34
        }
      },
      "source": [
        "print(players)"
      ],
      "execution_count": 0,
      "outputs": [
        {
          "output_type": "stream",
          "text": [
            "{'Ishant', 'Ravindra', 'Virat', 'Bumrah', 'Rahul', 'Rohit'}\n"
          ],
          "name": "stdout"
        }
      ]
    },
    {
      "cell_type": "code",
      "metadata": {
        "id": "25ZGq6hLV4T4",
        "colab_type": "code",
        "colab": {}
      },
      "source": [
        "bowlers = {\"Ishant\", \"Bumrah\", \"Ravindra\", \"Bumrah\"}"
      ],
      "execution_count": 0,
      "outputs": []
    },
    {
      "cell_type": "code",
      "metadata": {
        "id": "3f4SpXn_V-YI",
        "colab_type": "code",
        "outputId": "92f78dd3-ba16-40f5-fa78-9429f1574fb4",
        "colab": {
          "base_uri": "https://localhost:8080/",
          "height": 34
        }
      },
      "source": [
        "print(bowlers)"
      ],
      "execution_count": 0,
      "outputs": [
        {
          "output_type": "stream",
          "text": [
            "{'Bumrah', 'Ishant', 'Ravindra'}\n"
          ],
          "name": "stdout"
        }
      ]
    },
    {
      "cell_type": "code",
      "metadata": {
        "id": "dIDmR9x7V_vC",
        "colab_type": "code",
        "outputId": "c500848d-1a76-485b-9f0c-4c27e9f592cb",
        "colab": {
          "base_uri": "https://localhost:8080/",
          "height": 34
        }
      },
      "source": [
        "%%timeit -n1 -r10\n",
        "\n",
        "my_list = list(range(10000))\n",
        "\n",
        "for i in range(10000):\n",
        "    b = 1947 in my_list"
      ],
      "execution_count": 0,
      "outputs": [
        {
          "output_type": "stream",
          "text": [
            "1 loop, best of 10: 216 ms per loop\n"
          ],
          "name": "stdout"
        }
      ]
    },
    {
      "cell_type": "code",
      "metadata": {
        "id": "Li-V91Y1WkEf",
        "colab_type": "code",
        "outputId": "7c9eee95-716a-4e14-bbf6-1d83f763a232",
        "colab": {
          "base_uri": "https://localhost:8080/",
          "height": 34
        }
      },
      "source": [
        "%%timeit -n1 -r10\n",
        "\n",
        "my_tuple = tuple(range(10000))\n",
        "\n",
        "for i in range(10000):\n",
        "    b = 1947 in my_tuple"
      ],
      "execution_count": 0,
      "outputs": [
        {
          "output_type": "stream",
          "text": [
            "1 loop, best of 10: 215 ms per loop\n"
          ],
          "name": "stdout"
        }
      ]
    },
    {
      "cell_type": "code",
      "metadata": {
        "id": "0Co9MdoAWpHI",
        "colab_type": "code",
        "outputId": "0bb5450a-060b-4fe9-aa23-7dad8838ce01",
        "colab": {
          "base_uri": "https://localhost:8080/",
          "height": 34
        }
      },
      "source": [
        "%%timeit -n1 -r10\n",
        "\n",
        "my_set = set(range(10000))\n",
        "\n",
        "for i in range(10000):\n",
        "    b = 1947 in my_set"
      ],
      "execution_count": 0,
      "outputs": [
        {
          "output_type": "stream",
          "text": [
            "1 loop, best of 10: 864 µs per loop\n"
          ],
          "name": "stdout"
        }
      ]
    },
    {
      "cell_type": "markdown",
      "metadata": {
        "id": "6ADwnZVkqWdf",
        "colab_type": "text"
      },
      "source": [
        "Sets are very very fast than both list and tuples in searching for items. Because sets have only unique values, python does a bunch of interesting things to make finding of values within sets very efficient.\n",
        "\n",
        "<br>\n",
        "\n",
        "So, if the requirement is to store a bunch of unique entities say email addresses of all people registered on our company's site and we want to find if a particular person actually registered, then sets are good of storing it and we can quickly check if that person actually registered or not."
      ]
    },
    {
      "cell_type": "markdown",
      "metadata": {
        "id": "sTDgFpQCa9xa",
        "colab_type": "text"
      },
      "source": [
        "# Dictionary"
      ]
    },
    {
      "cell_type": "code",
      "metadata": {
        "id": "ufnuvOHzaunz",
        "colab_type": "code",
        "colab": {}
      },
      "source": [
        "bmi_dataset = [\n",
        "               [\"Krishna\", 75, 1.73, False],\n",
        "               [\"Bheem\", 120, 1.78, True]\n",
        "]"
      ],
      "execution_count": 0,
      "outputs": []
    },
    {
      "cell_type": "code",
      "metadata": {
        "id": "nxRU93n1bCx7",
        "colab_type": "code",
        "colab": {}
      },
      "source": [
        "bmi_record = {\n",
        "    \"name\": \"Krishna\",\n",
        "    \"weight\": 75,\n",
        "    \"height\": 1.73,\n",
        "    \"is_overweight\": False\n",
        "}"
      ],
      "execution_count": 0,
      "outputs": []
    },
    {
      "cell_type": "code",
      "metadata": {
        "id": "2RNmOCEAb43J",
        "colab_type": "code",
        "outputId": "7b14470f-a7c5-4d97-e35a-5ac11a8e54e5",
        "colab": {
          "base_uri": "https://localhost:8080/",
          "height": 34
        }
      },
      "source": [
        "print(type(bmi_record))"
      ],
      "execution_count": 0,
      "outputs": [
        {
          "output_type": "stream",
          "text": [
            "<class 'dict'>\n"
          ],
          "name": "stdout"
        }
      ]
    },
    {
      "cell_type": "code",
      "metadata": {
        "id": "q3knrRTfb6LK",
        "colab_type": "code",
        "outputId": "85f68702-669b-46db-f387-ae588bdce714",
        "colab": {
          "base_uri": "https://localhost:8080/",
          "height": 34
        }
      },
      "source": [
        "bmi_record[\"name\"]"
      ],
      "execution_count": 0,
      "outputs": [
        {
          "output_type": "execute_result",
          "data": {
            "text/plain": [
              "'Krishna'"
            ]
          },
          "metadata": {
            "tags": []
          },
          "execution_count": 222
        }
      ]
    },
    {
      "cell_type": "code",
      "metadata": {
        "id": "63W3rfkzcAeZ",
        "colab_type": "code",
        "outputId": "d6610307-6b50-4b9c-ed62-4998f29e723c",
        "colab": {
          "base_uri": "https://localhost:8080/",
          "height": 163
        }
      },
      "source": [
        "bmi_record[\"email\"]   ## key named email does not exist"
      ],
      "execution_count": 0,
      "outputs": [
        {
          "output_type": "error",
          "ename": "KeyError",
          "evalue": "ignored",
          "traceback": [
            "\u001b[0;31m---------------------------------------------------------------------------\u001b[0m",
            "\u001b[0;31mKeyError\u001b[0m                                  Traceback (most recent call last)",
            "\u001b[0;32m<ipython-input-223-c87c06070081>\u001b[0m in \u001b[0;36m<module>\u001b[0;34m()\u001b[0m\n\u001b[0;32m----> 1\u001b[0;31m \u001b[0mbmi_record\u001b[0m\u001b[0;34m[\u001b[0m\u001b[0;34m\"email\"\u001b[0m\u001b[0;34m]\u001b[0m   \u001b[0;31m## key named email does not exist\u001b[0m\u001b[0;34m\u001b[0m\u001b[0;34m\u001b[0m\u001b[0m\n\u001b[0m",
            "\u001b[0;31mKeyError\u001b[0m: 'email'"
          ]
        }
      ]
    },
    {
      "cell_type": "code",
      "metadata": {
        "id": "fpW4ztt8cFDW",
        "colab_type": "code",
        "colab": {}
      },
      "source": [
        "bmi_record[\"email\"] = \"krishna@idontknow.com\"     ## create a new key named email"
      ],
      "execution_count": 0,
      "outputs": []
    },
    {
      "cell_type": "code",
      "metadata": {
        "id": "vpfoArSdcKt6",
        "colab_type": "code",
        "outputId": "a375e7b3-12f5-4ff6-f505-6ef8471ff526",
        "colab": {
          "base_uri": "https://localhost:8080/",
          "height": 34
        }
      },
      "source": [
        "print(bmi_record)"
      ],
      "execution_count": 0,
      "outputs": [
        {
          "output_type": "stream",
          "text": [
            "{'name': 'Krishna', 'weight': 75, 'height': 1.73, 'is_overweight': False, 'email': 'krishna@idontknow.com'}\n"
          ],
          "name": "stdout"
        }
      ]
    },
    {
      "cell_type": "code",
      "metadata": {
        "id": "HnbthNJDcMZB",
        "colab_type": "code",
        "outputId": "29bbed36-1726-4749-a529-36624869903e",
        "colab": {
          "base_uri": "https://localhost:8080/",
          "height": 102
        }
      },
      "source": [
        "# iterate through the keys of dictionary\n",
        "for key in bmi_record:\n",
        "\n",
        "    print(key, \":\", bmi_record[key])"
      ],
      "execution_count": 0,
      "outputs": [
        {
          "output_type": "stream",
          "text": [
            "name : Krishna\n",
            "weight : 75\n",
            "height : 1.73\n",
            "is_overweight : False\n",
            "email : krishna@idontknow.com\n"
          ],
          "name": "stdout"
        }
      ]
    },
    {
      "cell_type": "code",
      "metadata": {
        "id": "UkbDd6yQcaqQ",
        "colab_type": "code",
        "outputId": "9ddcee85-b138-4380-afda-52bde7e8e731",
        "colab": {
          "base_uri": "https://localhost:8080/",
          "height": 34
        }
      },
      "source": [
        "print(bmi_record.keys())     # retuns all the keys of the dictionary"
      ],
      "execution_count": 0,
      "outputs": [
        {
          "output_type": "stream",
          "text": [
            "dict_keys(['name', 'weight', 'height', 'is_overweight', 'email'])\n"
          ],
          "name": "stdout"
        }
      ]
    },
    {
      "cell_type": "code",
      "metadata": {
        "id": "QDf6V2WUu3Kk",
        "colab_type": "code",
        "outputId": "f0865b57-d9ba-4327-e0ae-157d79cf5a0d",
        "colab": {
          "base_uri": "https://localhost:8080/",
          "height": 34
        }
      },
      "source": [
        "print(type(bmi_record.keys()))"
      ],
      "execution_count": 0,
      "outputs": [
        {
          "output_type": "stream",
          "text": [
            "<class 'dict_keys'>\n"
          ],
          "name": "stdout"
        }
      ]
    },
    {
      "cell_type": "code",
      "metadata": {
        "id": "SoWv6sKncoTl",
        "colab_type": "code",
        "colab": {}
      },
      "source": [
        "bmi_record_1 = {\n",
        "    \"name\": \"Bheem\",\n",
        "    \"weight\": 125,\n",
        "    \"height\": 1.75,\n",
        "    \"is_overweight\": True,\n",
        "    \"email\": \"bheem@foodtruck.com\"\n",
        "}"
      ],
      "execution_count": 0,
      "outputs": []
    },
    {
      "cell_type": "markdown",
      "metadata": {
        "id": "Sz6v15DUvFXg",
        "colab_type": "text"
      },
      "source": [
        "We can have a list of dictionary items where each individual dictionary item is a record of one patient."
      ]
    },
    {
      "cell_type": "code",
      "metadata": {
        "id": "UXhGexkfc9vu",
        "colab_type": "code",
        "colab": {}
      },
      "source": [
        "bmi_dataset = [bmi_record, bmi_record_1]"
      ],
      "execution_count": 0,
      "outputs": []
    },
    {
      "cell_type": "code",
      "metadata": {
        "id": "RZmUZ-TcIaLO",
        "colab_type": "code",
        "outputId": "e7c5a19b-a742-46ab-8253-90b9baf260b0",
        "colab": {
          "base_uri": "https://localhost:8080/",
          "height": 34
        }
      },
      "source": [
        "print(type(bmi_dataset))"
      ],
      "execution_count": 0,
      "outputs": [
        {
          "output_type": "stream",
          "text": [
            "<class 'list'>\n"
          ],
          "name": "stdout"
        }
      ]
    },
    {
      "cell_type": "code",
      "metadata": {
        "id": "Rh3w29SnIeMB",
        "colab_type": "code",
        "outputId": "eeb81d8f-bce8-4709-9258-e1e92bd1d0a5",
        "colab": {
          "base_uri": "https://localhost:8080/",
          "height": 34
        }
      },
      "source": [
        "print(type(bmi_dataset[0]))"
      ],
      "execution_count": 0,
      "outputs": [
        {
          "output_type": "stream",
          "text": [
            "<class 'dict'>\n"
          ],
          "name": "stdout"
        }
      ]
    },
    {
      "cell_type": "code",
      "metadata": {
        "id": "Fnv5saMIdBgt",
        "colab_type": "code",
        "outputId": "17dc796c-f306-4d0d-b23a-0828bd315255",
        "colab": {
          "base_uri": "https://localhost:8080/",
          "height": 34
        }
      },
      "source": [
        "print(bmi_dataset[0][\"is_overweight\"])"
      ],
      "execution_count": 0,
      "outputs": [
        {
          "output_type": "stream",
          "text": [
            "False\n"
          ],
          "name": "stdout"
        }
      ]
    },
    {
      "cell_type": "markdown",
      "metadata": {
        "id": "hotfYemIdSJo",
        "colab_type": "text"
      },
      "source": [
        "## Exercise for dictionary"
      ]
    },
    {
      "cell_type": "markdown",
      "metadata": {
        "id": "qCbcEYcndV3x",
        "colab_type": "text"
      },
      "source": [
        "Receive the user input that says something like \"I went to Parliament\" or \"Why don't you go to Wankhede\". You then subsitute the POI by its lat and long coordinates of that POI."
      ]
    },
    {
      "cell_type": "code",
      "metadata": {
        "id": "Kyl9MayUdEAN",
        "colab_type": "code",
        "colab": {}
      },
      "source": [
        "pois = {\"Parliament\": \"28°37'2\\\"N, 77°12'29\\\"E\", \n",
        "        \"Wankhede\": \"18°56'20.10\\\"N, 72°49'32.60\\\"E\",\n",
        "        \"Nalanda\": \"25°8'12\\\"N, 85°26'38\\\"E\",\n",
        "        \"Mahabalipuram\": \"12°37'21.817\\\"N, 80°11'38.080\\\"E\"\n",
        "        }"
      ],
      "execution_count": 0,
      "outputs": []
    },
    {
      "cell_type": "code",
      "metadata": {
        "id": "LDXs7VuVfDYA",
        "colab_type": "code",
        "outputId": "eb5cc282-da48-4f32-d936-ca10a76a08c0",
        "colab": {
          "base_uri": "https://localhost:8080/",
          "height": 34
        }
      },
      "source": [
        "user_text = input(\"\")"
      ],
      "execution_count": 0,
      "outputs": [
        {
          "output_type": "stream",
          "text": [
            "I went to Wankhede\n"
          ],
          "name": "stdout"
        }
      ]
    },
    {
      "cell_type": "code",
      "metadata": {
        "id": "24cznA3cfH-I",
        "colab_type": "code",
        "outputId": "eea5126a-f3cc-4622-ca72-fdba3dd55930",
        "colab": {
          "base_uri": "https://localhost:8080/",
          "height": 34
        }
      },
      "source": [
        "words = user_text.split()\n",
        "print(words)"
      ],
      "execution_count": 0,
      "outputs": [
        {
          "output_type": "stream",
          "text": [
            "['I', 'went', 'to', 'Wankhede']\n"
          ],
          "name": "stdout"
        }
      ]
    },
    {
      "cell_type": "code",
      "metadata": {
        "id": "147LejjMfURV",
        "colab_type": "code",
        "colab": {}
      },
      "source": [
        "output = \"\"\n",
        "for word in words:\n",
        "    if word in pois:                 # this checks if the word is a valid key in the dictionary\n",
        "        output += pois[word]\n",
        "    else:\n",
        "        output += word\n",
        "    output += \" \""
      ],
      "execution_count": 0,
      "outputs": []
    },
    {
      "cell_type": "code",
      "metadata": {
        "id": "EHHKEIY_fpQp",
        "colab_type": "code",
        "outputId": "95947618-a550-4414-dfd2-c820f31698a1",
        "colab": {
          "base_uri": "https://localhost:8080/",
          "height": 34
        }
      },
      "source": [
        "print(output)"
      ],
      "execution_count": 0,
      "outputs": [
        {
          "output_type": "stream",
          "text": [
            "I went to 18°56'20.10\"N, 72°49'32.60\"E \n"
          ],
          "name": "stdout"
        }
      ]
    },
    {
      "cell_type": "code",
      "metadata": {
        "id": "0wuZ3tmdfqNm",
        "colab_type": "code",
        "colab": {}
      },
      "source": [
        "output = \"\"\n",
        "for word in words:\n",
        "    output += (pois.get(word, word) + \" \")      # check if the word exists as a valid key in the dictionary, if yes, grab its value else use the word as it is"
      ],
      "execution_count": 0,
      "outputs": []
    },
    {
      "cell_type": "code",
      "metadata": {
        "id": "BN20yKSAgFpx",
        "colab_type": "code",
        "outputId": "0fe439e7-33ed-4681-dd89-89ba00804c20",
        "colab": {
          "base_uri": "https://localhost:8080/",
          "height": 34
        }
      },
      "source": [
        "print(output)"
      ],
      "execution_count": 0,
      "outputs": [
        {
          "output_type": "stream",
          "text": [
            "I went to 18°56'20.10\"N, 72°49'32.60\"E \n"
          ],
          "name": "stdout"
        }
      ]
    },
    {
      "cell_type": "markdown",
      "metadata": {
        "id": "bKvfycfkgQ3r",
        "colab_type": "text"
      },
      "source": [
        "# Exercise - design thinking\n",
        "\n",
        "![alt text](https://www.polygons.tech/wp-content/uploads/adas-road2-web-1200.jpg)\n",
        "\n",
        "Consider the following data store that is used to represent the output of annotation process. \n",
        "\n",
        "```\n",
        "Car 1729\n",
        "X1, Y1\n",
        "X2, Y2\n",
        "X3, Y3\n",
        "...\n",
        "Xk, Yk\n",
        "----\n",
        "Car \n",
        "X1, Y1\n",
        "X2, Y2\n",
        "...\n",
        "Xk', Yk'\n",
        "----\n",
        "...\n",
        "```\n",
        "\n",
        "Multiple cars are annotated in each image. Each car has a string name followed by a series of points forming a closed polygon. The number of these points varies from car to car. Each point itself is characterised by two numbers corresponding to the x and y coordinates. What data structures would you use to represent this. Note that you have multiple levels of representation that are nested and different choices can be made for each level. "
      ]
    },
    {
      "cell_type": "markdown",
      "metadata": {
        "id": "JX0uDlUzMrBp",
        "colab_type": "text"
      },
      "source": [
        "We have three levels of representation, one is at the car level, then we have a list of points and each point has two numbers which corresponds to its two axis.\n",
        "\n",
        "<br>\n",
        "\n",
        "Each car might have a unique name which is used to refer to the car. So, at the top level we might store all of this as the dictionary where key is a unique identifier for the car. \n",
        "\n",
        "<br>\n",
        "\n",
        "The next thing to do would be to store these points. So, the key say 1729 would point to some value and that value in this case could be chosen to be a list. So, the list could store all possible points here, you may choose to store this as a tuple if for instance you are clear that you would never edit this list of points.\n",
        "\n",
        "<br>\n",
        "\n",
        "The items within the list are themselves two numbers which could be represented using tuple because we won't change these numbers once they are put in the data structure."
      ]
    },
    {
      "cell_type": "markdown",
      "metadata": {
        "id": "0jOZYFBKl1A1",
        "colab_type": "text"
      },
      "source": [
        "# Files"
      ]
    },
    {
      "cell_type": "code",
      "metadata": {
        "id": "_P-KqqtRltoe",
        "colab_type": "code",
        "colab": {}
      },
      "source": [
        "# opens the file and returns us a handler to work with the file object\n",
        "f = open(\"poem.txt\", \"r\")"
      ],
      "execution_count": 0,
      "outputs": []
    },
    {
      "cell_type": "code",
      "metadata": {
        "id": "Yy9n5PYumyrF",
        "colab_type": "code",
        "outputId": "8888d659-acfb-4183-c866-55556aaaf588",
        "colab": {
          "base_uri": "https://localhost:8080/",
          "height": 34
        }
      },
      "source": [
        "print(f)"
      ],
      "execution_count": 0,
      "outputs": [
        {
          "output_type": "stream",
          "text": [
            "<_io.TextIOWrapper name='poem.txt' mode='r' encoding='UTF-8'>\n"
          ],
          "name": "stdout"
        }
      ]
    },
    {
      "cell_type": "code",
      "metadata": {
        "id": "Y1JoHERmmzqX",
        "colab_type": "code",
        "colab": {}
      },
      "source": [
        "output = f.read()     # reads in the entire file"
      ],
      "execution_count": 0,
      "outputs": []
    },
    {
      "cell_type": "code",
      "metadata": {
        "id": "ig5eOCYnm6fO",
        "colab_type": "code",
        "outputId": "a8c26b79-fe75-4dda-da87-a028a892e648",
        "colab": {
          "base_uri": "https://localhost:8080/",
          "height": 442
        }
      },
      "source": [
        "print(output)"
      ],
      "execution_count": 0,
      "outputs": [
        {
          "output_type": "stream",
          "text": [
            "Unending Love by Rabindranath Tagore\n",
            "\n",
            "I seem to have loved you in numberless forms, numberless times\n",
            "In life after life, in age after age, forever.\n",
            "My spellbound heart has made and remade the necklace of songs,\n",
            "That you take as a gift, wear round your neck in your many forms,\n",
            "In life after life, in age after age, forever.\n",
            "\n",
            "Whenever I hear old chronicles of love, its age-old pain,\n",
            "Its ancient tale of being apart or together.\n",
            "As I stare on and on into the past, in the end you emerge,\n",
            "Clad in the light of a pole-star piercing the darkness of time:\n",
            "You become an image of what is remembered forever.\n",
            "\n",
            "You and I have floated here on the stream that brings from the fount.\n",
            "At the heart of time, love of one for another.\n",
            "We have played along side millions of lovers, shared in the same\n",
            "Shy sweetness of meeting, the same distressful tears of farewell-\n",
            "Old love but in shapes that renew and renew forever.\n",
            "\n",
            "Today it is heaped at your feet, it has found its end in you\n",
            "The love of all manâ€™s days both past and forever:\n",
            "Universal joy, universal sorrow, universal life.\n",
            "The memories of all loves merging with this one love of ours â€“\n",
            "And the songs of every poet past and forever.\n"
          ],
          "name": "stdout"
        }
      ]
    },
    {
      "cell_type": "code",
      "metadata": {
        "id": "_ddGl1xmm7VH",
        "colab_type": "code",
        "outputId": "7c9d503c-5ee3-48b6-c4e6-a3d4fa4ead5b",
        "colab": {
          "base_uri": "https://localhost:8080/",
          "height": 51
        }
      },
      "source": [
        "f = open(\"poem.txt\", \"r\")\n",
        "\n",
        "out_line = f.readline()     # reads one line\n",
        "print(out_line)"
      ],
      "execution_count": 0,
      "outputs": [
        {
          "output_type": "stream",
          "text": [
            "Unending Love by Rabindranath Tagore\n",
            "\n"
          ],
          "name": "stdout"
        }
      ]
    },
    {
      "cell_type": "code",
      "metadata": {
        "id": "5jLCietmnHW3",
        "colab_type": "code",
        "outputId": "d1f47ae4-fcd7-4298-9edb-59c413786f40",
        "colab": {
          "base_uri": "https://localhost:8080/",
          "height": 51
        }
      },
      "source": [
        "out_line = f.readline()    # reads the second line\n",
        "print(out_line)"
      ],
      "execution_count": 0,
      "outputs": [
        {
          "output_type": "stream",
          "text": [
            "\n",
            "\n"
          ],
          "name": "stdout"
        }
      ]
    },
    {
      "cell_type": "code",
      "metadata": {
        "id": "XZlfBpNWnKZr",
        "colab_type": "code",
        "outputId": "f04e9b7a-5e8e-4e14-de07-9b2463b186a6",
        "colab": {
          "base_uri": "https://localhost:8080/",
          "height": 51
        }
      },
      "source": [
        "out_line = f.readline()\n",
        "print(out_line)"
      ],
      "execution_count": 0,
      "outputs": [
        {
          "output_type": "stream",
          "text": [
            "I seem to have loved you in numberless forms, numberless times\n",
            "\n"
          ],
          "name": "stdout"
        }
      ]
    },
    {
      "cell_type": "code",
      "metadata": {
        "id": "4uHX46O7nMEC",
        "colab_type": "code",
        "outputId": "3d5b5412-0559-4b02-d6f5-dcacd0ea8688",
        "colab": {
          "base_uri": "https://localhost:8080/",
          "height": 54
        }
      },
      "source": [
        "f = open(\"poem.txt\", \"r\")\n",
        "\n",
        "out_lines = f.readlines()    # reads the file line by line and store each line in a list\n",
        "print(out_lines)"
      ],
      "execution_count": 0,
      "outputs": [
        {
          "output_type": "stream",
          "text": [
            "['Unending Love by Rabindranath Tagore\\n', '\\n', 'I seem to have loved you in numberless forms, numberless times\\n', 'In life after life, in age after age, forever.\\n', 'My spellbound heart has made and remade the necklace of songs,\\n', 'That you take as a gift, wear round your neck in your many forms,\\n', 'In life after life, in age after age, forever.\\n', '\\n', 'Whenever I hear old chronicles of love, its age-old pain,\\n', 'Its ancient tale of being apart or together.\\n', 'As I stare on and on into the past, in the end you emerge,\\n', 'Clad in the light of a pole-star piercing the darkness of time:\\n', 'You become an image of what is remembered forever.\\n', '\\n', 'You and I have floated here on the stream that brings from the fount.\\n', 'At the heart of time, love of one for another.\\n', 'We have played along side millions of lovers, shared in the same\\n', 'Shy sweetness of meeting, the same distressful tears of farewell-\\n', 'Old love but in shapes that renew and renew forever.\\n', '\\n', 'Today it is heaped at your feet, it has found its end in you\\n', 'The love of all manâ€™s days both past and forever:\\n', 'Universal joy, universal sorrow, universal life.\\n', 'The memories of all loves merging with this one love of ours â€“\\n', 'And the songs of every poet past and forever.']\n"
          ],
          "name": "stdout"
        }
      ]
    },
    {
      "cell_type": "code",
      "metadata": {
        "id": "srMGVS67nS9g",
        "colab_type": "code",
        "colab": {}
      },
      "source": [
        "f.close()"
      ],
      "execution_count": 0,
      "outputs": []
    },
    {
      "cell_type": "code",
      "metadata": {
        "id": "n3ecHqLDncHw",
        "colab_type": "code",
        "outputId": "116e8dcf-da0b-47fc-e68b-15bcb9c10dfa",
        "colab": {
          "base_uri": "https://localhost:8080/",
          "height": 163
        }
      },
      "source": [
        "out_line = f.readline()"
      ],
      "execution_count": 0,
      "outputs": [
        {
          "output_type": "error",
          "ename": "ValueError",
          "evalue": "ignored",
          "traceback": [
            "\u001b[0;31m---------------------------------------------------------------------------\u001b[0m",
            "\u001b[0;31mValueError\u001b[0m                                Traceback (most recent call last)",
            "\u001b[0;32m<ipython-input-250-0a6ad4065469>\u001b[0m in \u001b[0;36m<module>\u001b[0;34m()\u001b[0m\n\u001b[0;32m----> 1\u001b[0;31m \u001b[0mout_line\u001b[0m \u001b[0;34m=\u001b[0m \u001b[0mf\u001b[0m\u001b[0;34m.\u001b[0m\u001b[0mreadline\u001b[0m\u001b[0;34m(\u001b[0m\u001b[0;34m)\u001b[0m\u001b[0;34m\u001b[0m\u001b[0;34m\u001b[0m\u001b[0m\n\u001b[0m",
            "\u001b[0;31mValueError\u001b[0m: I/O operation on closed file."
          ]
        }
      ]
    },
    {
      "cell_type": "code",
      "metadata": {
        "id": "RpbQQl2XnegA",
        "colab_type": "code",
        "outputId": "c3b6dde4-69ea-47f1-ed2c-35743483e0f9",
        "colab": {
          "base_uri": "https://localhost:8080/",
          "height": 54
        }
      },
      "source": [
        "with open(\"poem.txt\", \"r\") as f:     # file is automatically closed\n",
        "\n",
        "    out_lines = f.readlines()\n",
        "    print(out_lines) "
      ],
      "execution_count": 0,
      "outputs": [
        {
          "output_type": "stream",
          "text": [
            "['Unending Love by Rabindranath Tagore\\n', '\\n', 'I seem to have loved you in numberless forms, numberless times\\n', 'In life after life, in age after age, forever.\\n', 'My spellbound heart has made and remade the necklace of songs,\\n', 'That you take as a gift, wear round your neck in your many forms,\\n', 'In life after life, in age after age, forever.\\n', '\\n', 'Whenever I hear old chronicles of love, its age-old pain,\\n', 'Its ancient tale of being apart or together.\\n', 'As I stare on and on into the past, in the end you emerge,\\n', 'Clad in the light of a pole-star piercing the darkness of time:\\n', 'You become an image of what is remembered forever.\\n', '\\n', 'You and I have floated here on the stream that brings from the fount.\\n', 'At the heart of time, love of one for another.\\n', 'We have played along side millions of lovers, shared in the same\\n', 'Shy sweetness of meeting, the same distressful tears of farewell-\\n', 'Old love but in shapes that renew and renew forever.\\n', '\\n', 'Today it is heaped at your feet, it has found its end in you\\n', 'The love of all manâ€™s days both past and forever:\\n', 'Universal joy, universal sorrow, universal life.\\n', 'The memories of all loves merging with this one love of ours â€“\\n', 'And the songs of every poet past and forever.']\n"
          ],
          "name": "stdout"
        }
      ]
    },
    {
      "cell_type": "code",
      "metadata": {
        "colab_type": "code",
        "outputId": "b180fc26-4797-4ff2-e74c-381ea2cda99e",
        "id": "raNR8TPMqXtS",
        "colab": {
          "base_uri": "https://localhost:8080/",
          "height": 163
        }
      },
      "source": [
        "f.readlines()"
      ],
      "execution_count": 0,
      "outputs": [
        {
          "output_type": "error",
          "ename": "ValueError",
          "evalue": "ignored",
          "traceback": [
            "\u001b[0;31m---------------------------------------------------------------------------\u001b[0m",
            "\u001b[0;31mValueError\u001b[0m                                Traceback (most recent call last)",
            "\u001b[0;32m<ipython-input-252-055d0c37aeda>\u001b[0m in \u001b[0;36m<module>\u001b[0;34m()\u001b[0m\n\u001b[0;32m----> 1\u001b[0;31m \u001b[0mf\u001b[0m\u001b[0;34m.\u001b[0m\u001b[0mreadlines\u001b[0m\u001b[0;34m(\u001b[0m\u001b[0;34m)\u001b[0m\u001b[0;34m\u001b[0m\u001b[0;34m\u001b[0m\u001b[0m\n\u001b[0m",
            "\u001b[0;31mValueError\u001b[0m: I/O operation on closed file."
          ]
        }
      ]
    },
    {
      "cell_type": "code",
      "metadata": {
        "id": "brA2ghgfqawf",
        "colab_type": "code",
        "outputId": "fb4349b5-09e1-4448-a78a-84707f8aac00",
        "colab": {
          "base_uri": "https://localhost:8080/",
          "height": 54
        }
      },
      "source": [
        "f = open(\"poem.txt\", \"r\")\n",
        "out_lines = f.readlines()\n",
        "print(out_lines)\n",
        "f.close()"
      ],
      "execution_count": 0,
      "outputs": [
        {
          "output_type": "stream",
          "text": [
            "['Unending Love by Rabindranath Tagore\\n', '\\n', 'I seem to have loved you in numberless forms, numberless times\\n', 'In life after life, in age after age, forever.\\n', 'My spellbound heart has made and remade the necklace of songs,\\n', 'That you take as a gift, wear round your neck in your many forms,\\n', 'In life after life, in age after age, forever.\\n', '\\n', 'Whenever I hear old chronicles of love, its age-old pain,\\n', 'Its ancient tale of being apart or together.\\n', 'As I stare on and on into the past, in the end you emerge,\\n', 'Clad in the light of a pole-star piercing the darkness of time:\\n', 'You become an image of what is remembered forever.\\n', '\\n', 'You and I have floated here on the stream that brings from the fount.\\n', 'At the heart of time, love of one for another.\\n', 'We have played along side millions of lovers, shared in the same\\n', 'Shy sweetness of meeting, the same distressful tears of farewell-\\n', 'Old love but in shapes that renew and renew forever.\\n', '\\n', 'Today it is heaped at your feet, it has found its end in you\\n', 'The love of all manâ€™s days both past and forever:\\n', 'Universal joy, universal sorrow, universal life.\\n', 'The memories of all loves merging with this one love of ours â€“\\n', 'And the songs of every poet past and forever.']\n"
          ],
          "name": "stdout"
        }
      ]
    },
    {
      "cell_type": "code",
      "metadata": {
        "id": "yfybbwLuq8Ss",
        "colab_type": "code",
        "outputId": "b973f572-4d42-4306-e90e-8afbafcf7c90",
        "colab": {
          "base_uri": "https://localhost:8080/",
          "height": 442
        }
      },
      "source": [
        "i = 0\n",
        "for line in out_lines:\n",
        "    print(i, '\\t', line.strip())     # we are using strip() as the each list element contains '\\n' so to remove that reduntant white space/new line we use strip\n",
        "                                     # '\\t' ensures that each line in the output starts from the same point after the index\n",
        "    i += 1"
      ],
      "execution_count": 0,
      "outputs": [
        {
          "output_type": "stream",
          "text": [
            "0 \t Unending Love by Rabindranath Tagore\n",
            "1 \t \n",
            "2 \t I seem to have loved you in numberless forms, numberless times\n",
            "3 \t In life after life, in age after age, forever.\n",
            "4 \t My spellbound heart has made and remade the necklace of songs,\n",
            "5 \t That you take as a gift, wear round your neck in your many forms,\n",
            "6 \t In life after life, in age after age, forever.\n",
            "7 \t \n",
            "8 \t Whenever I hear old chronicles of love, its age-old pain,\n",
            "9 \t Its ancient tale of being apart or together.\n",
            "10 \t As I stare on and on into the past, in the end you emerge,\n",
            "11 \t Clad in the light of a pole-star piercing the darkness of time:\n",
            "12 \t You become an image of what is remembered forever.\n",
            "13 \t \n",
            "14 \t You and I have floated here on the stream that brings from the fount.\n",
            "15 \t At the heart of time, love of one for another.\n",
            "16 \t We have played along side millions of lovers, shared in the same\n",
            "17 \t Shy sweetness of meeting, the same distressful tears of farewell-\n",
            "18 \t Old love but in shapes that renew and renew forever.\n",
            "19 \t \n",
            "20 \t Today it is heaped at your feet, it has found its end in you\n",
            "21 \t The love of all manâ€™s days both past and forever:\n",
            "22 \t Universal joy, universal sorrow, universal life.\n",
            "23 \t The memories of all loves merging with this one love of ours â€“\n",
            "24 \t And the songs of every poet past and forever.\n"
          ],
          "name": "stdout"
        }
      ]
    },
    {
      "cell_type": "code",
      "metadata": {
        "id": "01zYZPzXrDvo",
        "colab_type": "code",
        "colab": {}
      },
      "source": [
        "f_out = open(\"fav.txt\", \"w\")"
      ],
      "execution_count": 0,
      "outputs": []
    },
    {
      "cell_type": "code",
      "metadata": {
        "id": "hZCTo6I-reJL",
        "colab_type": "code",
        "colab": {}
      },
      "source": [
        "f_out.writelines(out_lines[2])"
      ],
      "execution_count": 0,
      "outputs": []
    },
    {
      "cell_type": "code",
      "metadata": {
        "id": "L_PTj0Srrjq-",
        "colab_type": "code",
        "colab": {}
      },
      "source": [
        "f_out.close()     # only after closing the file, it will reflect the updated content"
      ],
      "execution_count": 0,
      "outputs": []
    },
    {
      "cell_type": "code",
      "metadata": {
        "id": "hVBBnZXBrv3Y",
        "colab_type": "code",
        "colab": {}
      },
      "source": [
        "fav_lines = [2, 22]"
      ],
      "execution_count": 0,
      "outputs": []
    },
    {
      "cell_type": "code",
      "metadata": {
        "id": "t8owFzztr35X",
        "colab_type": "code",
        "colab": {}
      },
      "source": [
        "with open(\"fav.txt\", \"w\") as f_out:\n",
        "  \n",
        "    for fav_line in fav_lines:\n",
        "        f_out.writelines(out_lines[fav_line])"
      ],
      "execution_count": 0,
      "outputs": []
    },
    {
      "cell_type": "markdown",
      "metadata": {
        "id": "edmIJ9KUsRsU",
        "colab_type": "text"
      },
      "source": [
        "# Exercise\n",
        "\n",
        "1.   Create a dictionary whose keys correspond to unique words in a given file and whose values correspond to the number of times each word appears in the file.\n",
        "2.   To an output file, write the 10 most frequent words in separate lines.\n",
        "3.   To an output file, write the 5 most frequenct 2-grams in separate lines.\n",
        "\n",
        "\n"
      ]
    },
    {
      "cell_type": "markdown",
      "metadata": {
        "id": "-OuV1y82BUYV",
        "colab_type": "text"
      },
      "source": [
        "# Problem 1, 2"
      ]
    },
    {
      "cell_type": "code",
      "metadata": {
        "id": "RqhwDYTpBVac",
        "colab_type": "code",
        "outputId": "a1e1f1cb-283b-4bf8-e170-dccc0a372e54",
        "colab": {
          "base_uri": "https://localhost:8080/",
          "height": 55
        }
      },
      "source": [
        "f = open(\"poem.txt\", \"r\")\n",
        "lines = f.readlines()\n",
        "print(lines)\n",
        "f.close()"
      ],
      "execution_count": 0,
      "outputs": [
        {
          "output_type": "stream",
          "text": [
            "['Unending Love by Rabindranath Tagore\\n', '\\n', 'I seem to have loved you in numberless forms, numberless times\\n', 'In life after life, in age after age, forever.\\n', 'My spellbound heart has made and remade the necklace of songs,\\n', 'That you take as a gift, wear round your neck in your many forms,\\n', 'In life after life, in age after age, forever.\\n', '\\n', 'Whenever I hear old chronicles of love, its age-old pain,\\n', 'Its ancient tale of being apart or together.\\n', 'As I stare on and on into the past, in the end you emerge,\\n', 'Clad in the light of a pole-star piercing the darkness of time:\\n', 'You become an image of what is remembered forever.\\n', '\\n', 'You and I have floated here on the stream that brings from the fount.\\n', 'At the heart of time, love of one for another.\\n', 'We have played along side millions of lovers, shared in the same\\n', 'Shy sweetness of meeting, the same distressful tears of farewell-\\n', 'Old love but in shapes that renew and renew forever.\\n', '\\n', 'Today it is heaped at your feet, it has found its end in you\\n', 'The love of all man’s days both past and forever:\\n', 'Universal joy, universal sorrow, universal life.\\n', 'The memories of all loves merging with this one love of ours –\\n', 'And the songs of every poet past and forever.']\n"
          ],
          "name": "stdout"
        }
      ]
    },
    {
      "cell_type": "code",
      "metadata": {
        "id": "k2o2s4jJBYSs",
        "colab_type": "code",
        "colab": {}
      },
      "source": [
        "for item in lines:\n",
        "    item = item.lower()"
      ],
      "execution_count": 0,
      "outputs": []
    },
    {
      "cell_type": "code",
      "metadata": {
        "id": "9wNMoBAwBoOU",
        "colab_type": "code",
        "outputId": "2c52361c-5c38-44f7-d9dd-333f36a08abf",
        "colab": {
          "base_uri": "https://localhost:8080/",
          "height": 54
        }
      },
      "source": [
        "print(lines[0])"
      ],
      "execution_count": 0,
      "outputs": [
        {
          "output_type": "stream",
          "text": [
            "Unending Love by Rabindranath Tagore\n",
            "\n"
          ],
          "name": "stdout"
        }
      ]
    },
    {
      "cell_type": "code",
      "metadata": {
        "id": "TFF31Cz1Bpya",
        "colab_type": "code",
        "colab": {}
      },
      "source": [
        "length = len(lines)\n",
        "for i in range(length):\n",
        "    lines[i] = lines[i].lower()"
      ],
      "execution_count": 0,
      "outputs": []
    },
    {
      "cell_type": "code",
      "metadata": {
        "id": "nPD1C8UmB6RG",
        "colab_type": "code",
        "outputId": "fce9f838-0d72-4d8a-89aa-2a7dbcf53eef",
        "colab": {
          "base_uri": "https://localhost:8080/",
          "height": 54
        }
      },
      "source": [
        "print(lines[0])"
      ],
      "execution_count": 0,
      "outputs": [
        {
          "output_type": "stream",
          "text": [
            "unending love by rabindranath tagore\n",
            "\n"
          ],
          "name": "stdout"
        }
      ]
    },
    {
      "cell_type": "code",
      "metadata": {
        "id": "K5Zu5a0BB8e5",
        "colab_type": "code",
        "outputId": "43c69fd2-aaaa-48c7-8d02-5c3e2e7b3cfe",
        "colab": {
          "base_uri": "https://localhost:8080/",
          "height": 55
        }
      },
      "source": [
        "print(lines)"
      ],
      "execution_count": 0,
      "outputs": [
        {
          "output_type": "stream",
          "text": [
            "['unending love by rabindranath tagore\\n', '\\n', 'i seem to have loved you in numberless forms, numberless times\\n', 'in life after life, in age after age, forever.\\n', 'my spellbound heart has made and remade the necklace of songs,\\n', 'that you take as a gift, wear round your neck in your many forms,\\n', 'in life after life, in age after age, forever.\\n', '\\n', 'whenever i hear old chronicles of love, its age-old pain,\\n', 'its ancient tale of being apart or together.\\n', 'as i stare on and on into the past, in the end you emerge,\\n', 'clad in the light of a pole-star piercing the darkness of time:\\n', 'you become an image of what is remembered forever.\\n', '\\n', 'you and i have floated here on the stream that brings from the fount.\\n', 'at the heart of time, love of one for another.\\n', 'we have played along side millions of lovers, shared in the same\\n', 'shy sweetness of meeting, the same distressful tears of farewell-\\n', 'old love but in shapes that renew and renew forever.\\n', '\\n', 'today it is heaped at your feet, it has found its end in you\\n', 'the love of all man’s days both past and forever:\\n', 'universal joy, universal sorrow, universal life.\\n', 'the memories of all loves merging with this one love of ours –\\n', 'and the songs of every poet past and forever.']\n"
          ],
          "name": "stdout"
        }
      ]
    },
    {
      "cell_type": "code",
      "metadata": {
        "id": "6p68KD7_B9zj",
        "colab_type": "code",
        "colab": {}
      },
      "source": [
        "for i in range(length):\n",
        "    lines[i] = lines[i].replace('\\n', ' ')"
      ],
      "execution_count": 0,
      "outputs": []
    },
    {
      "cell_type": "code",
      "metadata": {
        "id": "cieU63uDCLlW",
        "colab_type": "code",
        "outputId": "29a24b1b-b4ba-4dcc-e87b-7a0be091b142",
        "colab": {
          "base_uri": "https://localhost:8080/",
          "height": 55
        }
      },
      "source": [
        "print(lines)"
      ],
      "execution_count": 0,
      "outputs": [
        {
          "output_type": "stream",
          "text": [
            "['unending love by rabindranath tagore ', ' ', 'i seem to have loved you in numberless forms, numberless times ', 'in life after life, in age after age, forever. ', 'my spellbound heart has made and remade the necklace of songs, ', 'that you take as a gift, wear round your neck in your many forms, ', 'in life after life, in age after age, forever. ', ' ', 'whenever i hear old chronicles of love, its age-old pain, ', 'its ancient tale of being apart or together. ', 'as i stare on and on into the past, in the end you emerge, ', 'clad in the light of a pole-star piercing the darkness of time: ', 'you become an image of what is remembered forever. ', ' ', 'you and i have floated here on the stream that brings from the fount. ', 'at the heart of time, love of one for another. ', 'we have played along side millions of lovers, shared in the same ', 'shy sweetness of meeting, the same distressful tears of farewell- ', 'old love but in shapes that renew and renew forever. ', ' ', 'today it is heaped at your feet, it has found its end in you ', 'the love of all man’s days both past and forever: ', 'universal joy, universal sorrow, universal life. ', 'the memories of all loves merging with this one love of ours – ', 'and the songs of every poet past and forever.']\n"
          ],
          "name": "stdout"
        }
      ]
    },
    {
      "cell_type": "code",
      "metadata": {
        "id": "5ScoSoYQCMur",
        "colab_type": "code",
        "colab": {}
      },
      "source": [
        "chars_to_replace = ['\\n', ',', '-', '\"', '(', ')', '.']\n",
        "for i in range(length):\n",
        "    for s in chars_to_replace:\n",
        "        lines[i] = lines[i].replace(s, ' ')"
      ],
      "execution_count": 0,
      "outputs": []
    },
    {
      "cell_type": "code",
      "metadata": {
        "id": "aSa-Yuu8Cjk6",
        "colab_type": "code",
        "outputId": "3012727d-0c0b-4f9e-8f74-c92cb9382bca",
        "colab": {
          "base_uri": "https://localhost:8080/",
          "height": 55
        }
      },
      "source": [
        "print(lines)"
      ],
      "execution_count": 0,
      "outputs": [
        {
          "output_type": "stream",
          "text": [
            "['unending love by rabindranath tagore ', ' ', 'i seem to have loved you in numberless forms  numberless times ', 'in life after life  in age after age  forever  ', 'my spellbound heart has made and remade the necklace of songs  ', 'that you take as a gift  wear round your neck in your many forms  ', 'in life after life  in age after age  forever  ', ' ', 'whenever i hear old chronicles of love  its age old pain  ', 'its ancient tale of being apart or together  ', 'as i stare on and on into the past  in the end you emerge  ', 'clad in the light of a pole star piercing the darkness of time: ', 'you become an image of what is remembered forever  ', ' ', 'you and i have floated here on the stream that brings from the fount  ', 'at the heart of time  love of one for another  ', 'we have played along side millions of lovers  shared in the same ', 'shy sweetness of meeting  the same distressful tears of farewell  ', 'old love but in shapes that renew and renew forever  ', ' ', 'today it is heaped at your feet  it has found its end in you ', 'the love of all man’s days both past and forever: ', 'universal joy  universal sorrow  universal life  ', 'the memories of all loves merging with this one love of ours – ', 'and the songs of every poet past and forever ']\n"
          ],
          "name": "stdout"
        }
      ]
    },
    {
      "cell_type": "code",
      "metadata": {
        "id": "Fdpi4spmClKS",
        "colab_type": "code",
        "colab": {}
      },
      "source": [
        "text = \"\"\n",
        "for line in lines:\n",
        "    text += line + \" \" "
      ],
      "execution_count": 0,
      "outputs": []
    },
    {
      "cell_type": "code",
      "metadata": {
        "id": "YE8i94NLC7ep",
        "colab_type": "code",
        "outputId": "751e84b6-e35f-4571-97dc-eacc6b927950",
        "colab": {
          "base_uri": "https://localhost:8080/",
          "height": 55
        }
      },
      "source": [
        "print(text)"
      ],
      "execution_count": 0,
      "outputs": [
        {
          "output_type": "stream",
          "text": [
            "unending love by rabindranath tagore    i seem to have loved you in numberless forms  numberless times  in life after life  in age after age  forever   my spellbound heart has made and remade the necklace of songs   that you take as a gift  wear round your neck in your many forms   in life after life  in age after age  forever     whenever i hear old chronicles of love  its age old pain   its ancient tale of being apart or together   as i stare on and on into the past  in the end you emerge   clad in the light of a pole star piercing the darkness of time:  you become an image of what is remembered forever     you and i have floated here on the stream that brings from the fount   at the heart of time  love of one for another   we have played along side millions of lovers  shared in the same  shy sweetness of meeting  the same distressful tears of farewell   old love but in shapes that renew and renew forever     today it is heaped at your feet  it has found its end in you  the love of all man’s days both past and forever:  universal joy  universal sorrow  universal life   the memories of all loves merging with this one love of ours –  and the songs of every poet past and forever  \n"
          ],
          "name": "stdout"
        }
      ]
    },
    {
      "cell_type": "code",
      "metadata": {
        "id": "vGmiAZh2C-VN",
        "colab_type": "code",
        "colab": {}
      },
      "source": [
        "text = \" \".join(lines)"
      ],
      "execution_count": 0,
      "outputs": []
    },
    {
      "cell_type": "code",
      "metadata": {
        "id": "2guM_qx8DNy1",
        "colab_type": "code",
        "outputId": "bd509177-9cf0-4546-ee6f-0f0b71632f89",
        "colab": {
          "base_uri": "https://localhost:8080/",
          "height": 55
        }
      },
      "source": [
        "print(text)"
      ],
      "execution_count": 0,
      "outputs": [
        {
          "output_type": "stream",
          "text": [
            "unending love by rabindranath tagore    i seem to have loved you in numberless forms  numberless times  in life after life  in age after age  forever   my spellbound heart has made and remade the necklace of songs   that you take as a gift  wear round your neck in your many forms   in life after life  in age after age  forever     whenever i hear old chronicles of love  its age old pain   its ancient tale of being apart or together   as i stare on and on into the past  in the end you emerge   clad in the light of a pole star piercing the darkness of time:  you become an image of what is remembered forever     you and i have floated here on the stream that brings from the fount   at the heart of time  love of one for another   we have played along side millions of lovers  shared in the same  shy sweetness of meeting  the same distressful tears of farewell   old love but in shapes that renew and renew forever     today it is heaped at your feet  it has found its end in you  the love of all man’s days both past and forever:  universal joy  universal sorrow  universal life   the memories of all loves merging with this one love of ours –  and the songs of every poet past and forever \n"
          ],
          "name": "stdout"
        }
      ]
    },
    {
      "cell_type": "code",
      "metadata": {
        "id": "h9wLviwZDOor",
        "colab_type": "code",
        "colab": {}
      },
      "source": [
        "words = text.split()"
      ],
      "execution_count": 0,
      "outputs": []
    },
    {
      "cell_type": "code",
      "metadata": {
        "id": "Xb-VC2VaDUYW",
        "colab_type": "code",
        "outputId": "433288be-ea54-4da2-82af-84ba3cfe94d2",
        "colab": {
          "base_uri": "https://localhost:8080/",
          "height": 55
        }
      },
      "source": [
        "print(len(words), words)"
      ],
      "execution_count": 0,
      "outputs": [
        {
          "output_type": "stream",
          "text": [
            "222 ['unending', 'love', 'by', 'rabindranath', 'tagore', 'i', 'seem', 'to', 'have', 'loved', 'you', 'in', 'numberless', 'forms', 'numberless', 'times', 'in', 'life', 'after', 'life', 'in', 'age', 'after', 'age', 'forever', 'my', 'spellbound', 'heart', 'has', 'made', 'and', 'remade', 'the', 'necklace', 'of', 'songs', 'that', 'you', 'take', 'as', 'a', 'gift', 'wear', 'round', 'your', 'neck', 'in', 'your', 'many', 'forms', 'in', 'life', 'after', 'life', 'in', 'age', 'after', 'age', 'forever', 'whenever', 'i', 'hear', 'old', 'chronicles', 'of', 'love', 'its', 'age', 'old', 'pain', 'its', 'ancient', 'tale', 'of', 'being', 'apart', 'or', 'together', 'as', 'i', 'stare', 'on', 'and', 'on', 'into', 'the', 'past', 'in', 'the', 'end', 'you', 'emerge', 'clad', 'in', 'the', 'light', 'of', 'a', 'pole', 'star', 'piercing', 'the', 'darkness', 'of', 'time:', 'you', 'become', 'an', 'image', 'of', 'what', 'is', 'remembered', 'forever', 'you', 'and', 'i', 'have', 'floated', 'here', 'on', 'the', 'stream', 'that', 'brings', 'from', 'the', 'fount', 'at', 'the', 'heart', 'of', 'time', 'love', 'of', 'one', 'for', 'another', 'we', 'have', 'played', 'along', 'side', 'millions', 'of', 'lovers', 'shared', 'in', 'the', 'same', 'shy', 'sweetness', 'of', 'meeting', 'the', 'same', 'distressful', 'tears', 'of', 'farewell', 'old', 'love', 'but', 'in', 'shapes', 'that', 'renew', 'and', 'renew', 'forever', 'today', 'it', 'is', 'heaped', 'at', 'your', 'feet', 'it', 'has', 'found', 'its', 'end', 'in', 'you', 'the', 'love', 'of', 'all', 'man’s', 'days', 'both', 'past', 'and', 'forever:', 'universal', 'joy', 'universal', 'sorrow', 'universal', 'life', 'the', 'memories', 'of', 'all', 'loves', 'merging', 'with', 'this', 'one', 'love', 'of', 'ours', '–', 'and', 'the', 'songs', 'of', 'every', 'poet', 'past', 'and', 'forever']\n"
          ],
          "name": "stdout"
        }
      ]
    },
    {
      "cell_type": "code",
      "metadata": {
        "id": "PLDKWzRDDWsr",
        "colab_type": "code",
        "colab": {}
      },
      "source": [
        "word_freq = {}"
      ],
      "execution_count": 0,
      "outputs": []
    },
    {
      "cell_type": "code",
      "metadata": {
        "id": "gMQY9pysDkhQ",
        "colab_type": "code",
        "colab": {}
      },
      "source": [
        "for word in words:\n",
        "    if word in word_freq:\n",
        "        word_freq[word] += 1\n",
        "    else:\n",
        "        word_freq[word] = 1"
      ],
      "execution_count": 0,
      "outputs": []
    },
    {
      "cell_type": "code",
      "metadata": {
        "id": "9wzLXk_eJTCM",
        "colab_type": "code",
        "colab": {}
      },
      "source": [
        "word_freq = iterable_counter(words)"
      ],
      "execution_count": 0,
      "outputs": []
    },
    {
      "cell_type": "code",
      "metadata": {
        "id": "Qq5y1bvyD2Pg",
        "colab_type": "code",
        "outputId": "a3448b0a-b0ec-4352-e5c3-7b15741e936a",
        "colab": {
          "base_uri": "https://localhost:8080/",
          "height": 55
        }
      },
      "source": [
        "print(word_freq)"
      ],
      "execution_count": 0,
      "outputs": [
        {
          "output_type": "stream",
          "text": [
            "{'unending': 1, 'love': 6, 'by': 1, 'rabindranath': 1, 'tagore': 1, 'i': 4, 'seem': 1, 'to': 1, 'have': 3, 'loved': 1, 'you': 6, 'in': 11, 'numberless': 2, 'forms': 2, 'times': 1, 'life': 5, 'after': 4, 'age': 5, 'forever': 5, 'my': 1, 'spellbound': 1, 'heart': 2, 'has': 2, 'made': 1, 'and': 7, 'remade': 1, 'the': 13, 'necklace': 1, 'of': 15, 'songs': 2, 'that': 3, 'take': 1, 'as': 2, 'a': 2, 'gift': 1, 'wear': 1, 'round': 1, 'your': 3, 'neck': 1, 'many': 1, 'whenever': 1, 'hear': 1, 'old': 3, 'chronicles': 1, 'its': 3, 'pain': 1, 'ancient': 1, 'tale': 1, 'being': 1, 'apart': 1, 'or': 1, 'together': 1, 'stare': 1, 'on': 3, 'into': 1, 'past': 3, 'end': 2, 'emerge': 1, 'clad': 1, 'light': 1, 'pole': 1, 'star': 1, 'piercing': 1, 'darkness': 1, 'time:': 1, 'become': 1, 'an': 1, 'image': 1, 'what': 1, 'is': 2, 'remembered': 1, 'floated': 1, 'here': 1, 'stream': 1, 'brings': 1, 'from': 1, 'fount': 1, 'at': 2, 'time': 1, 'one': 2, 'for': 1, 'another': 1, 'we': 1, 'played': 1, 'along': 1, 'side': 1, 'millions': 1, 'lovers': 1, 'shared': 1, 'same': 2, 'shy': 1, 'sweetness': 1, 'meeting': 1, 'distressful': 1, 'tears': 1, 'farewell': 1, 'but': 1, 'shapes': 1, 'renew': 2, 'today': 1, 'it': 2, 'heaped': 1, 'feet': 1, 'found': 1, 'all': 2, 'man’s': 1, 'days': 1, 'both': 1, 'forever:': 1, 'universal': 3, 'joy': 1, 'sorrow': 1, 'memories': 1, 'loves': 1, 'merging': 1, 'with': 1, 'this': 1, 'ours': 1, '–': 1, 'every': 1, 'poet': 1}\n"
          ],
          "name": "stdout"
        }
      ]
    },
    {
      "cell_type": "code",
      "metadata": {
        "id": "D9JRadaND4Pk",
        "colab_type": "code",
        "colab": {}
      },
      "source": [
        "# sorted(x.items(), key=lambda item: item[1])"
      ],
      "execution_count": 0,
      "outputs": []
    },
    {
      "cell_type": "code",
      "metadata": {
        "id": "PktncF2nEjU5",
        "colab_type": "code",
        "outputId": "2bfd6664-3486-47ff-fab8-343880824c71",
        "colab": {
          "base_uri": "https://localhost:8080/",
          "height": 55
        }
      },
      "source": [
        "print(sorted(word_freq.items()))"
      ],
      "execution_count": 0,
      "outputs": [
        {
          "output_type": "stream",
          "text": [
            "[('a', 2), ('after', 4), ('age', 5), ('all', 2), ('along', 1), ('an', 1), ('ancient', 1), ('and', 7), ('another', 1), ('apart', 1), ('as', 2), ('at', 2), ('become', 1), ('being', 1), ('both', 1), ('brings', 1), ('but', 1), ('by', 1), ('chronicles', 1), ('clad', 1), ('darkness', 1), ('days', 1), ('distressful', 1), ('emerge', 1), ('end', 2), ('every', 1), ('farewell', 1), ('feet', 1), ('floated', 1), ('for', 1), ('forever', 5), ('forever:', 1), ('forms', 2), ('found', 1), ('fount', 1), ('from', 1), ('gift', 1), ('has', 2), ('have', 3), ('heaped', 1), ('hear', 1), ('heart', 2), ('here', 1), ('i', 4), ('image', 1), ('in', 11), ('into', 1), ('is', 2), ('it', 2), ('its', 3), ('joy', 1), ('life', 5), ('light', 1), ('love', 6), ('loved', 1), ('lovers', 1), ('loves', 1), ('made', 1), ('many', 1), ('man’s', 1), ('meeting', 1), ('memories', 1), ('merging', 1), ('millions', 1), ('my', 1), ('neck', 1), ('necklace', 1), ('numberless', 2), ('of', 15), ('old', 3), ('on', 3), ('one', 2), ('or', 1), ('ours', 1), ('pain', 1), ('past', 3), ('piercing', 1), ('played', 1), ('poet', 1), ('pole', 1), ('rabindranath', 1), ('remade', 1), ('remembered', 1), ('renew', 2), ('round', 1), ('same', 2), ('seem', 1), ('shapes', 1), ('shared', 1), ('shy', 1), ('side', 1), ('songs', 2), ('sorrow', 1), ('spellbound', 1), ('star', 1), ('stare', 1), ('stream', 1), ('sweetness', 1), ('tagore', 1), ('take', 1), ('tale', 1), ('tears', 1), ('that', 3), ('the', 13), ('this', 1), ('time', 1), ('time:', 1), ('times', 1), ('to', 1), ('today', 1), ('together', 1), ('unending', 1), ('universal', 3), ('we', 1), ('wear', 1), ('what', 1), ('whenever', 1), ('with', 1), ('you', 6), ('your', 3), ('–', 1)]\n"
          ],
          "name": "stdout"
        }
      ]
    },
    {
      "cell_type": "code",
      "metadata": {
        "id": "HaAhYulMEpYZ",
        "colab_type": "code",
        "colab": {}
      },
      "source": [
        "sorted?"
      ],
      "execution_count": 0,
      "outputs": []
    },
    {
      "cell_type": "code",
      "metadata": {
        "id": "kuiv3F2-FANR",
        "colab_type": "code",
        "outputId": "9c4a70d9-3be2-40fb-fc56-2eda7bedbec6",
        "colab": {
          "base_uri": "https://localhost:8080/",
          "height": 55
        }
      },
      "source": [
        "print(sorted(word_freq.items(), key=lambda item: item[0]))"
      ],
      "execution_count": 0,
      "outputs": [
        {
          "output_type": "stream",
          "text": [
            "[('a', 2), ('after', 4), ('age', 5), ('all', 2), ('along', 1), ('an', 1), ('ancient', 1), ('and', 7), ('another', 1), ('apart', 1), ('as', 2), ('at', 2), ('become', 1), ('being', 1), ('both', 1), ('brings', 1), ('but', 1), ('by', 1), ('chronicles', 1), ('clad', 1), ('darkness', 1), ('days', 1), ('distressful', 1), ('emerge', 1), ('end', 2), ('every', 1), ('farewell', 1), ('feet', 1), ('floated', 1), ('for', 1), ('forever', 5), ('forever:', 1), ('forms', 2), ('found', 1), ('fount', 1), ('from', 1), ('gift', 1), ('has', 2), ('have', 3), ('heaped', 1), ('hear', 1), ('heart', 2), ('here', 1), ('i', 4), ('image', 1), ('in', 11), ('into', 1), ('is', 2), ('it', 2), ('its', 3), ('joy', 1), ('life', 5), ('light', 1), ('love', 6), ('loved', 1), ('lovers', 1), ('loves', 1), ('made', 1), ('many', 1), ('man’s', 1), ('meeting', 1), ('memories', 1), ('merging', 1), ('millions', 1), ('my', 1), ('neck', 1), ('necklace', 1), ('numberless', 2), ('of', 15), ('old', 3), ('on', 3), ('one', 2), ('or', 1), ('ours', 1), ('pain', 1), ('past', 3), ('piercing', 1), ('played', 1), ('poet', 1), ('pole', 1), ('rabindranath', 1), ('remade', 1), ('remembered', 1), ('renew', 2), ('round', 1), ('same', 2), ('seem', 1), ('shapes', 1), ('shared', 1), ('shy', 1), ('side', 1), ('songs', 2), ('sorrow', 1), ('spellbound', 1), ('star', 1), ('stare', 1), ('stream', 1), ('sweetness', 1), ('tagore', 1), ('take', 1), ('tale', 1), ('tears', 1), ('that', 3), ('the', 13), ('this', 1), ('time', 1), ('time:', 1), ('times', 1), ('to', 1), ('today', 1), ('together', 1), ('unending', 1), ('universal', 3), ('we', 1), ('wear', 1), ('what', 1), ('whenever', 1), ('with', 1), ('you', 6), ('your', 3), ('–', 1)]\n"
          ],
          "name": "stdout"
        }
      ]
    },
    {
      "cell_type": "code",
      "metadata": {
        "id": "7aw9UhRHFojy",
        "colab_type": "code",
        "outputId": "93b492c8-7111-4e66-fb04-1cea723e181a",
        "colab": {
          "base_uri": "https://localhost:8080/",
          "height": 55
        }
      },
      "source": [
        "print(sorted(word_freq.items(), key=lambda item: item[1]))"
      ],
      "execution_count": 0,
      "outputs": [
        {
          "output_type": "stream",
          "text": [
            "[('unending', 1), ('by', 1), ('rabindranath', 1), ('tagore', 1), ('seem', 1), ('to', 1), ('loved', 1), ('times', 1), ('my', 1), ('spellbound', 1), ('made', 1), ('remade', 1), ('necklace', 1), ('take', 1), ('gift', 1), ('wear', 1), ('round', 1), ('neck', 1), ('many', 1), ('whenever', 1), ('hear', 1), ('chronicles', 1), ('pain', 1), ('ancient', 1), ('tale', 1), ('being', 1), ('apart', 1), ('or', 1), ('together', 1), ('stare', 1), ('into', 1), ('emerge', 1), ('clad', 1), ('light', 1), ('pole', 1), ('star', 1), ('piercing', 1), ('darkness', 1), ('time:', 1), ('become', 1), ('an', 1), ('image', 1), ('what', 1), ('remembered', 1), ('floated', 1), ('here', 1), ('stream', 1), ('brings', 1), ('from', 1), ('fount', 1), ('time', 1), ('for', 1), ('another', 1), ('we', 1), ('played', 1), ('along', 1), ('side', 1), ('millions', 1), ('lovers', 1), ('shared', 1), ('shy', 1), ('sweetness', 1), ('meeting', 1), ('distressful', 1), ('tears', 1), ('farewell', 1), ('but', 1), ('shapes', 1), ('today', 1), ('heaped', 1), ('feet', 1), ('found', 1), ('man’s', 1), ('days', 1), ('both', 1), ('forever:', 1), ('joy', 1), ('sorrow', 1), ('memories', 1), ('loves', 1), ('merging', 1), ('with', 1), ('this', 1), ('ours', 1), ('–', 1), ('every', 1), ('poet', 1), ('numberless', 2), ('forms', 2), ('heart', 2), ('has', 2), ('songs', 2), ('as', 2), ('a', 2), ('end', 2), ('is', 2), ('at', 2), ('one', 2), ('same', 2), ('renew', 2), ('it', 2), ('all', 2), ('have', 3), ('that', 3), ('your', 3), ('old', 3), ('its', 3), ('on', 3), ('past', 3), ('universal', 3), ('i', 4), ('after', 4), ('life', 5), ('age', 5), ('forever', 5), ('love', 6), ('you', 6), ('and', 7), ('in', 11), ('the', 13), ('of', 15)]\n"
          ],
          "name": "stdout"
        }
      ]
    },
    {
      "cell_type": "code",
      "metadata": {
        "id": "foImE_VrFsta",
        "colab_type": "code",
        "colab": {}
      },
      "source": [
        "sorted_list = sorted(word_freq.items(), key=lambda item: item[1])"
      ],
      "execution_count": 0,
      "outputs": []
    },
    {
      "cell_type": "code",
      "metadata": {
        "id": "7oqy63rvGAke",
        "colab_type": "code",
        "outputId": "c9cdf286-dd48-4bcf-b84e-568d11fa19b6",
        "colab": {
          "base_uri": "https://localhost:8080/",
          "height": 201
        }
      },
      "source": [
        "sorted_list[-10:]"
      ],
      "execution_count": 0,
      "outputs": [
        {
          "output_type": "execute_result",
          "data": {
            "text/plain": [
              "[('after', 4),\n",
              " ('life', 5),\n",
              " ('age', 5),\n",
              " ('forever', 5),\n",
              " ('love', 6),\n",
              " ('you', 6),\n",
              " ('and', 7),\n",
              " ('in', 11),\n",
              " ('the', 13),\n",
              " ('of', 15)]"
            ]
          },
          "metadata": {
            "tags": []
          },
          "execution_count": 31
        }
      ]
    },
    {
      "cell_type": "code",
      "metadata": {
        "id": "4z4WulHjGFwf",
        "colab_type": "code",
        "colab": {}
      },
      "source": [
        "with open('most_common_words.txt', 'w') as f_out:\n",
        "    for item in sorted_list[-10:]:\n",
        "        f_out.write(item[0] + \"\\n\")"
      ],
      "execution_count": 0,
      "outputs": []
    },
    {
      "cell_type": "markdown",
      "metadata": {
        "id": "S2kJONpeHgVP",
        "colab_type": "text"
      },
      "source": [
        "# Problem 3"
      ]
    },
    {
      "cell_type": "markdown",
      "metadata": {
        "id": "71iwXvGrHhml",
        "colab_type": "text"
      },
      "source": [
        "unending love by rabindranath tagore -> (unending, love), (love, by), (by, rabindranath), (rabindranath, tagore)"
      ]
    },
    {
      "cell_type": "code",
      "metadata": {
        "id": "pf85UCnsGgYT",
        "colab_type": "code",
        "outputId": "21b48b70-42e3-4578-f049-4acc3c914d84",
        "colab": {
          "base_uri": "https://localhost:8080/",
          "height": 55
        }
      },
      "source": [
        "print(words)"
      ],
      "execution_count": 0,
      "outputs": [
        {
          "output_type": "stream",
          "text": [
            "['unending', 'love', 'by', 'rabindranath', 'tagore', 'i', 'seem', 'to', 'have', 'loved', 'you', 'in', 'numberless', 'forms', 'numberless', 'times', 'in', 'life', 'after', 'life', 'in', 'age', 'after', 'age', 'forever', 'my', 'spellbound', 'heart', 'has', 'made', 'and', 'remade', 'the', 'necklace', 'of', 'songs', 'that', 'you', 'take', 'as', 'a', 'gift', 'wear', 'round', 'your', 'neck', 'in', 'your', 'many', 'forms', 'in', 'life', 'after', 'life', 'in', 'age', 'after', 'age', 'forever', 'whenever', 'i', 'hear', 'old', 'chronicles', 'of', 'love', 'its', 'age', 'old', 'pain', 'its', 'ancient', 'tale', 'of', 'being', 'apart', 'or', 'together', 'as', 'i', 'stare', 'on', 'and', 'on', 'into', 'the', 'past', 'in', 'the', 'end', 'you', 'emerge', 'clad', 'in', 'the', 'light', 'of', 'a', 'pole', 'star', 'piercing', 'the', 'darkness', 'of', 'time:', 'you', 'become', 'an', 'image', 'of', 'what', 'is', 'remembered', 'forever', 'you', 'and', 'i', 'have', 'floated', 'here', 'on', 'the', 'stream', 'that', 'brings', 'from', 'the', 'fount', 'at', 'the', 'heart', 'of', 'time', 'love', 'of', 'one', 'for', 'another', 'we', 'have', 'played', 'along', 'side', 'millions', 'of', 'lovers', 'shared', 'in', 'the', 'same', 'shy', 'sweetness', 'of', 'meeting', 'the', 'same', 'distressful', 'tears', 'of', 'farewell', 'old', 'love', 'but', 'in', 'shapes', 'that', 'renew', 'and', 'renew', 'forever', 'today', 'it', 'is', 'heaped', 'at', 'your', 'feet', 'it', 'has', 'found', 'its', 'end', 'in', 'you', 'the', 'love', 'of', 'all', 'man’s', 'days', 'both', 'past', 'and', 'forever:', 'universal', 'joy', 'universal', 'sorrow', 'universal', 'life', 'the', 'memories', 'of', 'all', 'loves', 'merging', 'with', 'this', 'one', 'love', 'of', 'ours', '–', 'and', 'the', 'songs', 'of', 'every', 'poet', 'past', 'and', 'forever']\n"
          ],
          "name": "stdout"
        }
      ]
    },
    {
      "cell_type": "code",
      "metadata": {
        "id": "3wX3SCHdH_-7",
        "colab_type": "code",
        "colab": {}
      },
      "source": [
        "two_grams_zip = zip(words, words[1:])"
      ],
      "execution_count": 0,
      "outputs": []
    },
    {
      "cell_type": "code",
      "metadata": {
        "id": "6100-JspIODM",
        "colab_type": "code",
        "colab": {}
      },
      "source": [
        "for item in two_grams_zip:\n",
        "    print(item)"
      ],
      "execution_count": 0,
      "outputs": []
    },
    {
      "cell_type": "code",
      "metadata": {
        "id": "H9aCg9meIQmv",
        "colab_type": "code",
        "colab": {}
      },
      "source": [
        "two_grams = [item for item in two_grams_zip]"
      ],
      "execution_count": 0,
      "outputs": []
    },
    {
      "cell_type": "code",
      "metadata": {
        "id": "qOrPHvltIqNs",
        "colab_type": "code",
        "outputId": "e35f0e98-87c8-4204-e026-6d7e47461535",
        "colab": {
          "base_uri": "https://localhost:8080/",
          "height": 55
        }
      },
      "source": [
        "print(two_grams)"
      ],
      "execution_count": 0,
      "outputs": [
        {
          "output_type": "stream",
          "text": [
            "[('unending', 'love'), ('love', 'by'), ('by', 'rabindranath'), ('rabindranath', 'tagore'), ('tagore', 'i'), ('i', 'seem'), ('seem', 'to'), ('to', 'have'), ('have', 'loved'), ('loved', 'you'), ('you', 'in'), ('in', 'numberless'), ('numberless', 'forms'), ('forms', 'numberless'), ('numberless', 'times'), ('times', 'in'), ('in', 'life'), ('life', 'after'), ('after', 'life'), ('life', 'in'), ('in', 'age'), ('age', 'after'), ('after', 'age'), ('age', 'forever'), ('forever', 'my'), ('my', 'spellbound'), ('spellbound', 'heart'), ('heart', 'has'), ('has', 'made'), ('made', 'and'), ('and', 'remade'), ('remade', 'the'), ('the', 'necklace'), ('necklace', 'of'), ('of', 'songs'), ('songs', 'that'), ('that', 'you'), ('you', 'take'), ('take', 'as'), ('as', 'a'), ('a', 'gift'), ('gift', 'wear'), ('wear', 'round'), ('round', 'your'), ('your', 'neck'), ('neck', 'in'), ('in', 'your'), ('your', 'many'), ('many', 'forms'), ('forms', 'in'), ('in', 'life'), ('life', 'after'), ('after', 'life'), ('life', 'in'), ('in', 'age'), ('age', 'after'), ('after', 'age'), ('age', 'forever'), ('forever', 'whenever'), ('whenever', 'i'), ('i', 'hear'), ('hear', 'old'), ('old', 'chronicles'), ('chronicles', 'of'), ('of', 'love'), ('love', 'its'), ('its', 'age'), ('age', 'old'), ('old', 'pain'), ('pain', 'its'), ('its', 'ancient'), ('ancient', 'tale'), ('tale', 'of'), ('of', 'being'), ('being', 'apart'), ('apart', 'or'), ('or', 'together'), ('together', 'as'), ('as', 'i'), ('i', 'stare'), ('stare', 'on'), ('on', 'and'), ('and', 'on'), ('on', 'into'), ('into', 'the'), ('the', 'past'), ('past', 'in'), ('in', 'the'), ('the', 'end'), ('end', 'you'), ('you', 'emerge'), ('emerge', 'clad'), ('clad', 'in'), ('in', 'the'), ('the', 'light'), ('light', 'of'), ('of', 'a'), ('a', 'pole'), ('pole', 'star'), ('star', 'piercing'), ('piercing', 'the'), ('the', 'darkness'), ('darkness', 'of'), ('of', 'time:'), ('time:', 'you'), ('you', 'become'), ('become', 'an'), ('an', 'image'), ('image', 'of'), ('of', 'what'), ('what', 'is'), ('is', 'remembered'), ('remembered', 'forever'), ('forever', 'you'), ('you', 'and'), ('and', 'i'), ('i', 'have'), ('have', 'floated'), ('floated', 'here'), ('here', 'on'), ('on', 'the'), ('the', 'stream'), ('stream', 'that'), ('that', 'brings'), ('brings', 'from'), ('from', 'the'), ('the', 'fount'), ('fount', 'at'), ('at', 'the'), ('the', 'heart'), ('heart', 'of'), ('of', 'time'), ('time', 'love'), ('love', 'of'), ('of', 'one'), ('one', 'for'), ('for', 'another'), ('another', 'we'), ('we', 'have'), ('have', 'played'), ('played', 'along'), ('along', 'side'), ('side', 'millions'), ('millions', 'of'), ('of', 'lovers'), ('lovers', 'shared'), ('shared', 'in'), ('in', 'the'), ('the', 'same'), ('same', 'shy'), ('shy', 'sweetness'), ('sweetness', 'of'), ('of', 'meeting'), ('meeting', 'the'), ('the', 'same'), ('same', 'distressful'), ('distressful', 'tears'), ('tears', 'of'), ('of', 'farewell'), ('farewell', 'old'), ('old', 'love'), ('love', 'but'), ('but', 'in'), ('in', 'shapes'), ('shapes', 'that'), ('that', 'renew'), ('renew', 'and'), ('and', 'renew'), ('renew', 'forever'), ('forever', 'today'), ('today', 'it'), ('it', 'is'), ('is', 'heaped'), ('heaped', 'at'), ('at', 'your'), ('your', 'feet'), ('feet', 'it'), ('it', 'has'), ('has', 'found'), ('found', 'its'), ('its', 'end'), ('end', 'in'), ('in', 'you'), ('you', 'the'), ('the', 'love'), ('love', 'of'), ('of', 'all'), ('all', 'man’s'), ('man’s', 'days'), ('days', 'both'), ('both', 'past'), ('past', 'and'), ('and', 'forever:'), ('forever:', 'universal'), ('universal', 'joy'), ('joy', 'universal'), ('universal', 'sorrow'), ('sorrow', 'universal'), ('universal', 'life'), ('life', 'the'), ('the', 'memories'), ('memories', 'of'), ('of', 'all'), ('all', 'loves'), ('loves', 'merging'), ('merging', 'with'), ('with', 'this'), ('this', 'one'), ('one', 'love'), ('love', 'of'), ('of', 'ours'), ('ours', '–'), ('–', 'and'), ('and', 'the'), ('the', 'songs'), ('songs', 'of'), ('of', 'every'), ('every', 'poet'), ('poet', 'past'), ('past', 'and'), ('and', 'forever')]\n"
          ],
          "name": "stdout"
        }
      ]
    },
    {
      "cell_type": "code",
      "metadata": {
        "id": "7Z0i6abtIr4q",
        "colab_type": "code",
        "colab": {}
      },
      "source": [
        "def iterable_counter (iter_obj):\n",
        "    count_dict = {}\n",
        "    for item in iter_obj:\n",
        "        if item in count_dict:\n",
        "            count_dict[item] += 1\n",
        "        else:\n",
        "            count_dict[item] = 1\n",
        "    return count_dict"
      ],
      "execution_count": 0,
      "outputs": []
    },
    {
      "cell_type": "code",
      "metadata": {
        "id": "35ja23D4JLb6",
        "colab_type": "code",
        "colab": {}
      },
      "source": [
        "two_grams_freq = iterable_counter(two_grams)"
      ],
      "execution_count": 0,
      "outputs": []
    },
    {
      "cell_type": "code",
      "metadata": {
        "id": "-kSbhrxbJddB",
        "colab_type": "code",
        "outputId": "0fe47be9-633b-40e4-af36-ed486b19156f",
        "colab": {
          "base_uri": "https://localhost:8080/",
          "height": 55
        }
      },
      "source": [
        "print(two_grams_freq)"
      ],
      "execution_count": 0,
      "outputs": [
        {
          "output_type": "stream",
          "text": [
            "{('unending', 'love'): 1, ('love', 'by'): 1, ('by', 'rabindranath'): 1, ('rabindranath', 'tagore'): 1, ('tagore', 'i'): 1, ('i', 'seem'): 1, ('seem', 'to'): 1, ('to', 'have'): 1, ('have', 'loved'): 1, ('loved', 'you'): 1, ('you', 'in'): 1, ('in', 'numberless'): 1, ('numberless', 'forms'): 1, ('forms', 'numberless'): 1, ('numberless', 'times'): 1, ('times', 'in'): 1, ('in', 'life'): 2, ('life', 'after'): 2, ('after', 'life'): 2, ('life', 'in'): 2, ('in', 'age'): 2, ('age', 'after'): 2, ('after', 'age'): 2, ('age', 'forever'): 2, ('forever', 'my'): 1, ('my', 'spellbound'): 1, ('spellbound', 'heart'): 1, ('heart', 'has'): 1, ('has', 'made'): 1, ('made', 'and'): 1, ('and', 'remade'): 1, ('remade', 'the'): 1, ('the', 'necklace'): 1, ('necklace', 'of'): 1, ('of', 'songs'): 1, ('songs', 'that'): 1, ('that', 'you'): 1, ('you', 'take'): 1, ('take', 'as'): 1, ('as', 'a'): 1, ('a', 'gift'): 1, ('gift', 'wear'): 1, ('wear', 'round'): 1, ('round', 'your'): 1, ('your', 'neck'): 1, ('neck', 'in'): 1, ('in', 'your'): 1, ('your', 'many'): 1, ('many', 'forms'): 1, ('forms', 'in'): 1, ('forever', 'whenever'): 1, ('whenever', 'i'): 1, ('i', 'hear'): 1, ('hear', 'old'): 1, ('old', 'chronicles'): 1, ('chronicles', 'of'): 1, ('of', 'love'): 1, ('love', 'its'): 1, ('its', 'age'): 1, ('age', 'old'): 1, ('old', 'pain'): 1, ('pain', 'its'): 1, ('its', 'ancient'): 1, ('ancient', 'tale'): 1, ('tale', 'of'): 1, ('of', 'being'): 1, ('being', 'apart'): 1, ('apart', 'or'): 1, ('or', 'together'): 1, ('together', 'as'): 1, ('as', 'i'): 1, ('i', 'stare'): 1, ('stare', 'on'): 1, ('on', 'and'): 1, ('and', 'on'): 1, ('on', 'into'): 1, ('into', 'the'): 1, ('the', 'past'): 1, ('past', 'in'): 1, ('in', 'the'): 3, ('the', 'end'): 1, ('end', 'you'): 1, ('you', 'emerge'): 1, ('emerge', 'clad'): 1, ('clad', 'in'): 1, ('the', 'light'): 1, ('light', 'of'): 1, ('of', 'a'): 1, ('a', 'pole'): 1, ('pole', 'star'): 1, ('star', 'piercing'): 1, ('piercing', 'the'): 1, ('the', 'darkness'): 1, ('darkness', 'of'): 1, ('of', 'time:'): 1, ('time:', 'you'): 1, ('you', 'become'): 1, ('become', 'an'): 1, ('an', 'image'): 1, ('image', 'of'): 1, ('of', 'what'): 1, ('what', 'is'): 1, ('is', 'remembered'): 1, ('remembered', 'forever'): 1, ('forever', 'you'): 1, ('you', 'and'): 1, ('and', 'i'): 1, ('i', 'have'): 1, ('have', 'floated'): 1, ('floated', 'here'): 1, ('here', 'on'): 1, ('on', 'the'): 1, ('the', 'stream'): 1, ('stream', 'that'): 1, ('that', 'brings'): 1, ('brings', 'from'): 1, ('from', 'the'): 1, ('the', 'fount'): 1, ('fount', 'at'): 1, ('at', 'the'): 1, ('the', 'heart'): 1, ('heart', 'of'): 1, ('of', 'time'): 1, ('time', 'love'): 1, ('love', 'of'): 3, ('of', 'one'): 1, ('one', 'for'): 1, ('for', 'another'): 1, ('another', 'we'): 1, ('we', 'have'): 1, ('have', 'played'): 1, ('played', 'along'): 1, ('along', 'side'): 1, ('side', 'millions'): 1, ('millions', 'of'): 1, ('of', 'lovers'): 1, ('lovers', 'shared'): 1, ('shared', 'in'): 1, ('the', 'same'): 2, ('same', 'shy'): 1, ('shy', 'sweetness'): 1, ('sweetness', 'of'): 1, ('of', 'meeting'): 1, ('meeting', 'the'): 1, ('same', 'distressful'): 1, ('distressful', 'tears'): 1, ('tears', 'of'): 1, ('of', 'farewell'): 1, ('farewell', 'old'): 1, ('old', 'love'): 1, ('love', 'but'): 1, ('but', 'in'): 1, ('in', 'shapes'): 1, ('shapes', 'that'): 1, ('that', 'renew'): 1, ('renew', 'and'): 1, ('and', 'renew'): 1, ('renew', 'forever'): 1, ('forever', 'today'): 1, ('today', 'it'): 1, ('it', 'is'): 1, ('is', 'heaped'): 1, ('heaped', 'at'): 1, ('at', 'your'): 1, ('your', 'feet'): 1, ('feet', 'it'): 1, ('it', 'has'): 1, ('has', 'found'): 1, ('found', 'its'): 1, ('its', 'end'): 1, ('end', 'in'): 1, ('in', 'you'): 1, ('you', 'the'): 1, ('the', 'love'): 1, ('of', 'all'): 2, ('all', 'man’s'): 1, ('man’s', 'days'): 1, ('days', 'both'): 1, ('both', 'past'): 1, ('past', 'and'): 2, ('and', 'forever:'): 1, ('forever:', 'universal'): 1, ('universal', 'joy'): 1, ('joy', 'universal'): 1, ('universal', 'sorrow'): 1, ('sorrow', 'universal'): 1, ('universal', 'life'): 1, ('life', 'the'): 1, ('the', 'memories'): 1, ('memories', 'of'): 1, ('all', 'loves'): 1, ('loves', 'merging'): 1, ('merging', 'with'): 1, ('with', 'this'): 1, ('this', 'one'): 1, ('one', 'love'): 1, ('of', 'ours'): 1, ('ours', '–'): 1, ('–', 'and'): 1, ('and', 'the'): 1, ('the', 'songs'): 1, ('songs', 'of'): 1, ('of', 'every'): 1, ('every', 'poet'): 1, ('poet', 'past'): 1, ('and', 'forever'): 1}\n"
          ],
          "name": "stdout"
        }
      ]
    },
    {
      "cell_type": "code",
      "metadata": {
        "id": "dV8v889pJepV",
        "colab_type": "code",
        "colab": {}
      },
      "source": [
        "sorted_list = sorted(two_grams_freq.items(), key=lambda item: item[1])"
      ],
      "execution_count": 0,
      "outputs": []
    },
    {
      "cell_type": "code",
      "metadata": {
        "id": "V9yiPzC6JuOd",
        "colab_type": "code",
        "outputId": "d62d03a0-c092-46c0-c79e-d2a66461ebad",
        "colab": {
          "base_uri": "https://localhost:8080/",
          "height": 55
        }
      },
      "source": [
        "print(two_grams_freq.items())"
      ],
      "execution_count": 0,
      "outputs": [
        {
          "output_type": "stream",
          "text": [
            "dict_items([(('unending', 'love'), 1), (('love', 'by'), 1), (('by', 'rabindranath'), 1), (('rabindranath', 'tagore'), 1), (('tagore', 'i'), 1), (('i', 'seem'), 1), (('seem', 'to'), 1), (('to', 'have'), 1), (('have', 'loved'), 1), (('loved', 'you'), 1), (('you', 'in'), 1), (('in', 'numberless'), 1), (('numberless', 'forms'), 1), (('forms', 'numberless'), 1), (('numberless', 'times'), 1), (('times', 'in'), 1), (('in', 'life'), 2), (('life', 'after'), 2), (('after', 'life'), 2), (('life', 'in'), 2), (('in', 'age'), 2), (('age', 'after'), 2), (('after', 'age'), 2), (('age', 'forever'), 2), (('forever', 'my'), 1), (('my', 'spellbound'), 1), (('spellbound', 'heart'), 1), (('heart', 'has'), 1), (('has', 'made'), 1), (('made', 'and'), 1), (('and', 'remade'), 1), (('remade', 'the'), 1), (('the', 'necklace'), 1), (('necklace', 'of'), 1), (('of', 'songs'), 1), (('songs', 'that'), 1), (('that', 'you'), 1), (('you', 'take'), 1), (('take', 'as'), 1), (('as', 'a'), 1), (('a', 'gift'), 1), (('gift', 'wear'), 1), (('wear', 'round'), 1), (('round', 'your'), 1), (('your', 'neck'), 1), (('neck', 'in'), 1), (('in', 'your'), 1), (('your', 'many'), 1), (('many', 'forms'), 1), (('forms', 'in'), 1), (('forever', 'whenever'), 1), (('whenever', 'i'), 1), (('i', 'hear'), 1), (('hear', 'old'), 1), (('old', 'chronicles'), 1), (('chronicles', 'of'), 1), (('of', 'love'), 1), (('love', 'its'), 1), (('its', 'age'), 1), (('age', 'old'), 1), (('old', 'pain'), 1), (('pain', 'its'), 1), (('its', 'ancient'), 1), (('ancient', 'tale'), 1), (('tale', 'of'), 1), (('of', 'being'), 1), (('being', 'apart'), 1), (('apart', 'or'), 1), (('or', 'together'), 1), (('together', 'as'), 1), (('as', 'i'), 1), (('i', 'stare'), 1), (('stare', 'on'), 1), (('on', 'and'), 1), (('and', 'on'), 1), (('on', 'into'), 1), (('into', 'the'), 1), (('the', 'past'), 1), (('past', 'in'), 1), (('in', 'the'), 3), (('the', 'end'), 1), (('end', 'you'), 1), (('you', 'emerge'), 1), (('emerge', 'clad'), 1), (('clad', 'in'), 1), (('the', 'light'), 1), (('light', 'of'), 1), (('of', 'a'), 1), (('a', 'pole'), 1), (('pole', 'star'), 1), (('star', 'piercing'), 1), (('piercing', 'the'), 1), (('the', 'darkness'), 1), (('darkness', 'of'), 1), (('of', 'time:'), 1), (('time:', 'you'), 1), (('you', 'become'), 1), (('become', 'an'), 1), (('an', 'image'), 1), (('image', 'of'), 1), (('of', 'what'), 1), (('what', 'is'), 1), (('is', 'remembered'), 1), (('remembered', 'forever'), 1), (('forever', 'you'), 1), (('you', 'and'), 1), (('and', 'i'), 1), (('i', 'have'), 1), (('have', 'floated'), 1), (('floated', 'here'), 1), (('here', 'on'), 1), (('on', 'the'), 1), (('the', 'stream'), 1), (('stream', 'that'), 1), (('that', 'brings'), 1), (('brings', 'from'), 1), (('from', 'the'), 1), (('the', 'fount'), 1), (('fount', 'at'), 1), (('at', 'the'), 1), (('the', 'heart'), 1), (('heart', 'of'), 1), (('of', 'time'), 1), (('time', 'love'), 1), (('love', 'of'), 3), (('of', 'one'), 1), (('one', 'for'), 1), (('for', 'another'), 1), (('another', 'we'), 1), (('we', 'have'), 1), (('have', 'played'), 1), (('played', 'along'), 1), (('along', 'side'), 1), (('side', 'millions'), 1), (('millions', 'of'), 1), (('of', 'lovers'), 1), (('lovers', 'shared'), 1), (('shared', 'in'), 1), (('the', 'same'), 2), (('same', 'shy'), 1), (('shy', 'sweetness'), 1), (('sweetness', 'of'), 1), (('of', 'meeting'), 1), (('meeting', 'the'), 1), (('same', 'distressful'), 1), (('distressful', 'tears'), 1), (('tears', 'of'), 1), (('of', 'farewell'), 1), (('farewell', 'old'), 1), (('old', 'love'), 1), (('love', 'but'), 1), (('but', 'in'), 1), (('in', 'shapes'), 1), (('shapes', 'that'), 1), (('that', 'renew'), 1), (('renew', 'and'), 1), (('and', 'renew'), 1), (('renew', 'forever'), 1), (('forever', 'today'), 1), (('today', 'it'), 1), (('it', 'is'), 1), (('is', 'heaped'), 1), (('heaped', 'at'), 1), (('at', 'your'), 1), (('your', 'feet'), 1), (('feet', 'it'), 1), (('it', 'has'), 1), (('has', 'found'), 1), (('found', 'its'), 1), (('its', 'end'), 1), (('end', 'in'), 1), (('in', 'you'), 1), (('you', 'the'), 1), (('the', 'love'), 1), (('of', 'all'), 2), (('all', 'man’s'), 1), (('man’s', 'days'), 1), (('days', 'both'), 1), (('both', 'past'), 1), (('past', 'and'), 2), (('and', 'forever:'), 1), (('forever:', 'universal'), 1), (('universal', 'joy'), 1), (('joy', 'universal'), 1), (('universal', 'sorrow'), 1), (('sorrow', 'universal'), 1), (('universal', 'life'), 1), (('life', 'the'), 1), (('the', 'memories'), 1), (('memories', 'of'), 1), (('all', 'loves'), 1), (('loves', 'merging'), 1), (('merging', 'with'), 1), (('with', 'this'), 1), (('this', 'one'), 1), (('one', 'love'), 1), (('of', 'ours'), 1), (('ours', '–'), 1), (('–', 'and'), 1), (('and', 'the'), 1), (('the', 'songs'), 1), (('songs', 'of'), 1), (('of', 'every'), 1), (('every', 'poet'), 1), (('poet', 'past'), 1), (('and', 'forever'), 1)])\n"
          ],
          "name": "stdout"
        }
      ]
    },
    {
      "cell_type": "code",
      "metadata": {
        "id": "scZllfa6JwIL",
        "colab_type": "code",
        "colab": {}
      },
      "source": [
        "sorted_list = sorted(two_grams_freq.items(), key=lambda item: item[1])"
      ],
      "execution_count": 0,
      "outputs": []
    },
    {
      "cell_type": "code",
      "metadata": {
        "id": "aYRFgGtFJ9E2",
        "colab_type": "code",
        "outputId": "49875bcd-339d-4cc1-f0b5-fdaaa5a9d149",
        "colab": {
          "base_uri": "https://localhost:8080/",
          "height": 55
        }
      },
      "source": [
        "print(sorted_list)"
      ],
      "execution_count": 0,
      "outputs": [
        {
          "output_type": "stream",
          "text": [
            "[(('unending', 'love'), 1), (('love', 'by'), 1), (('by', 'rabindranath'), 1), (('rabindranath', 'tagore'), 1), (('tagore', 'i'), 1), (('i', 'seem'), 1), (('seem', 'to'), 1), (('to', 'have'), 1), (('have', 'loved'), 1), (('loved', 'you'), 1), (('you', 'in'), 1), (('in', 'numberless'), 1), (('numberless', 'forms'), 1), (('forms', 'numberless'), 1), (('numberless', 'times'), 1), (('times', 'in'), 1), (('forever', 'my'), 1), (('my', 'spellbound'), 1), (('spellbound', 'heart'), 1), (('heart', 'has'), 1), (('has', 'made'), 1), (('made', 'and'), 1), (('and', 'remade'), 1), (('remade', 'the'), 1), (('the', 'necklace'), 1), (('necklace', 'of'), 1), (('of', 'songs'), 1), (('songs', 'that'), 1), (('that', 'you'), 1), (('you', 'take'), 1), (('take', 'as'), 1), (('as', 'a'), 1), (('a', 'gift'), 1), (('gift', 'wear'), 1), (('wear', 'round'), 1), (('round', 'your'), 1), (('your', 'neck'), 1), (('neck', 'in'), 1), (('in', 'your'), 1), (('your', 'many'), 1), (('many', 'forms'), 1), (('forms', 'in'), 1), (('forever', 'whenever'), 1), (('whenever', 'i'), 1), (('i', 'hear'), 1), (('hear', 'old'), 1), (('old', 'chronicles'), 1), (('chronicles', 'of'), 1), (('of', 'love'), 1), (('love', 'its'), 1), (('its', 'age'), 1), (('age', 'old'), 1), (('old', 'pain'), 1), (('pain', 'its'), 1), (('its', 'ancient'), 1), (('ancient', 'tale'), 1), (('tale', 'of'), 1), (('of', 'being'), 1), (('being', 'apart'), 1), (('apart', 'or'), 1), (('or', 'together'), 1), (('together', 'as'), 1), (('as', 'i'), 1), (('i', 'stare'), 1), (('stare', 'on'), 1), (('on', 'and'), 1), (('and', 'on'), 1), (('on', 'into'), 1), (('into', 'the'), 1), (('the', 'past'), 1), (('past', 'in'), 1), (('the', 'end'), 1), (('end', 'you'), 1), (('you', 'emerge'), 1), (('emerge', 'clad'), 1), (('clad', 'in'), 1), (('the', 'light'), 1), (('light', 'of'), 1), (('of', 'a'), 1), (('a', 'pole'), 1), (('pole', 'star'), 1), (('star', 'piercing'), 1), (('piercing', 'the'), 1), (('the', 'darkness'), 1), (('darkness', 'of'), 1), (('of', 'time:'), 1), (('time:', 'you'), 1), (('you', 'become'), 1), (('become', 'an'), 1), (('an', 'image'), 1), (('image', 'of'), 1), (('of', 'what'), 1), (('what', 'is'), 1), (('is', 'remembered'), 1), (('remembered', 'forever'), 1), (('forever', 'you'), 1), (('you', 'and'), 1), (('and', 'i'), 1), (('i', 'have'), 1), (('have', 'floated'), 1), (('floated', 'here'), 1), (('here', 'on'), 1), (('on', 'the'), 1), (('the', 'stream'), 1), (('stream', 'that'), 1), (('that', 'brings'), 1), (('brings', 'from'), 1), (('from', 'the'), 1), (('the', 'fount'), 1), (('fount', 'at'), 1), (('at', 'the'), 1), (('the', 'heart'), 1), (('heart', 'of'), 1), (('of', 'time'), 1), (('time', 'love'), 1), (('of', 'one'), 1), (('one', 'for'), 1), (('for', 'another'), 1), (('another', 'we'), 1), (('we', 'have'), 1), (('have', 'played'), 1), (('played', 'along'), 1), (('along', 'side'), 1), (('side', 'millions'), 1), (('millions', 'of'), 1), (('of', 'lovers'), 1), (('lovers', 'shared'), 1), (('shared', 'in'), 1), (('same', 'shy'), 1), (('shy', 'sweetness'), 1), (('sweetness', 'of'), 1), (('of', 'meeting'), 1), (('meeting', 'the'), 1), (('same', 'distressful'), 1), (('distressful', 'tears'), 1), (('tears', 'of'), 1), (('of', 'farewell'), 1), (('farewell', 'old'), 1), (('old', 'love'), 1), (('love', 'but'), 1), (('but', 'in'), 1), (('in', 'shapes'), 1), (('shapes', 'that'), 1), (('that', 'renew'), 1), (('renew', 'and'), 1), (('and', 'renew'), 1), (('renew', 'forever'), 1), (('forever', 'today'), 1), (('today', 'it'), 1), (('it', 'is'), 1), (('is', 'heaped'), 1), (('heaped', 'at'), 1), (('at', 'your'), 1), (('your', 'feet'), 1), (('feet', 'it'), 1), (('it', 'has'), 1), (('has', 'found'), 1), (('found', 'its'), 1), (('its', 'end'), 1), (('end', 'in'), 1), (('in', 'you'), 1), (('you', 'the'), 1), (('the', 'love'), 1), (('all', 'man’s'), 1), (('man’s', 'days'), 1), (('days', 'both'), 1), (('both', 'past'), 1), (('and', 'forever:'), 1), (('forever:', 'universal'), 1), (('universal', 'joy'), 1), (('joy', 'universal'), 1), (('universal', 'sorrow'), 1), (('sorrow', 'universal'), 1), (('universal', 'life'), 1), (('life', 'the'), 1), (('the', 'memories'), 1), (('memories', 'of'), 1), (('all', 'loves'), 1), (('loves', 'merging'), 1), (('merging', 'with'), 1), (('with', 'this'), 1), (('this', 'one'), 1), (('one', 'love'), 1), (('of', 'ours'), 1), (('ours', '–'), 1), (('–', 'and'), 1), (('and', 'the'), 1), (('the', 'songs'), 1), (('songs', 'of'), 1), (('of', 'every'), 1), (('every', 'poet'), 1), (('poet', 'past'), 1), (('and', 'forever'), 1), (('in', 'life'), 2), (('life', 'after'), 2), (('after', 'life'), 2), (('life', 'in'), 2), (('in', 'age'), 2), (('age', 'after'), 2), (('after', 'age'), 2), (('age', 'forever'), 2), (('the', 'same'), 2), (('of', 'all'), 2), (('past', 'and'), 2), (('in', 'the'), 3), (('love', 'of'), 3)]\n"
          ],
          "name": "stdout"
        }
      ]
    },
    {
      "cell_type": "code",
      "metadata": {
        "id": "KS1ZLULlJ_nz",
        "colab_type": "code",
        "outputId": "57ab9953-db59-442f-8ad4-3655317ba03b",
        "colab": {
          "base_uri": "https://localhost:8080/",
          "height": 109
        }
      },
      "source": [
        "sorted_list[-5:]"
      ],
      "execution_count": 0,
      "outputs": [
        {
          "output_type": "execute_result",
          "data": {
            "text/plain": [
              "[(('the', 'same'), 2),\n",
              " (('of', 'all'), 2),\n",
              " (('past', 'and'), 2),\n",
              " (('in', 'the'), 3),\n",
              " (('love', 'of'), 3)]"
            ]
          },
          "metadata": {
            "tags": []
          },
          "execution_count": 52
        }
      ]
    },
    {
      "cell_type": "code",
      "metadata": {
        "id": "uDiuzTGQKO0o",
        "colab_type": "code",
        "colab": {}
      },
      "source": [
        "with open(\"common_two_grams.txt\", \"w\") as f_out:\n",
        "    for item in sorted_list[-5:]:\n",
        "        # print(item[0][0] + \" \" + item[0][1] + \"\\n\")\n",
        "        f_out.write(item[0][0] + \" \" + item[0][1] + \"\\n\")"
      ],
      "execution_count": 0,
      "outputs": []
    },
    {
      "cell_type": "code",
      "metadata": {
        "id": "LnEqUlKlKeEn",
        "colab_type": "code",
        "colab": {}
      },
      "source": [
        ""
      ],
      "execution_count": 0,
      "outputs": []
    }
  ]
}